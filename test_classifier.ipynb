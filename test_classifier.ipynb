{
  "nbformat": 4,
  "nbformat_minor": 0,
  "metadata": {
    "colab": {
      "name": "test_classifier.ipynb",
      "provenance": [],
      "collapsed_sections": []
    },
    "kernelspec": {
      "name": "python3",
      "display_name": "Python 3"
    },
    "language_info": {
      "name": "python"
    }
  },
  "cells": [
    {
      "cell_type": "markdown",
      "metadata": {
        "id": "4y8OHeztPrYn"
      },
      "source": [
        "# Testing the Trained Classifier"
      ]
    },
    {
      "cell_type": "markdown",
      "metadata": {
        "id": "bhjDMFSAPwRr"
      },
      "source": [
        "## Importing the Libraries"
      ]
    },
    {
      "cell_type": "code",
      "metadata": {
        "id": "s1J1ybxREd38"
      },
      "source": [
        "import keras\n",
        "import numpy as np\n",
        "import matplotlib.pyplot as plt\n",
        "from sklearn.metrics import confusion_matrix,classification_report\n",
        "from training_data import load_data, preprocess_data"
      ],
      "execution_count": 1,
      "outputs": []
    },
    {
      "cell_type": "markdown",
      "metadata": {
        "id": "fhJrGkZEP3S1"
      },
      "source": [
        "## Downloading and Pre-processing the Dataset"
      ]
    },
    {
      "cell_type": "code",
      "metadata": {
        "colab": {
          "base_uri": "https://localhost:8080/"
        },
        "id": "QEk0m0CmI27C",
        "outputId": "82c89719-5306-4ae8-c354-f6b4b0074674"
      },
      "source": [
        "X_train, y_train, X_test, y_test = load_data()"
      ],
      "execution_count": 2,
      "outputs": [
        {
          "output_type": "stream",
          "text": [
            "Downloading data from https://storage.googleapis.com/tensorflow/tf-keras-datasets/mnist.npz\n",
            "11493376/11490434 [==============================] - 0s 0us/step\n"
          ],
          "name": "stdout"
        }
      ]
    },
    {
      "cell_type": "code",
      "metadata": {
        "id": "7q8ZL74cyB8H"
      },
      "source": [
        "X_train_classifier, y_train_classifier, X_val_classifier, y_val_classifier, X_test_classifier, y_test_classifier = preprocess_data(X_train, y_train, X_test, y_test)"
      ],
      "execution_count": 3,
      "outputs": []
    },
    {
      "cell_type": "markdown",
      "metadata": {
        "id": "qBrUdYKsQDAC"
      },
      "source": [
        "## Loading the Trained model"
      ]
    },
    {
      "cell_type": "code",
      "metadata": {
        "colab": {
          "base_uri": "https://localhost:8080/"
        },
        "id": "OlgBe4gkI5Tm",
        "outputId": "1f6d83d6-3e27-49ff-9b0c-05af5bf27569"
      },
      "source": [
        "model = keras.models.load_model(\"classifier.h5\")\n",
        "model.summary()"
      ],
      "execution_count": 4,
      "outputs": [
        {
          "output_type": "stream",
          "text": [
            "Model: \"sequential\"\n",
            "_________________________________________________________________\n",
            "Layer (type)                 Output Shape              Param #   \n",
            "=================================================================\n",
            "conv2d (Conv2D)              (None, 26, 26, 32)        320       \n",
            "_________________________________________________________________\n",
            "conv2d_1 (Conv2D)            (None, 24, 24, 32)        9248      \n",
            "_________________________________________________________________\n",
            "batch_normalization (BatchNo (None, 24, 24, 32)        128       \n",
            "_________________________________________________________________\n",
            "max_pooling2d (MaxPooling2D) (None, 12, 12, 32)        0         \n",
            "_________________________________________________________________\n",
            "dropout (Dropout)            (None, 12, 12, 32)        0         \n",
            "_________________________________________________________________\n",
            "conv2d_2 (Conv2D)            (None, 10, 10, 64)        18496     \n",
            "_________________________________________________________________\n",
            "conv2d_3 (Conv2D)            (None, 8, 8, 64)          36928     \n",
            "_________________________________________________________________\n",
            "batch_normalization_1 (Batch (None, 8, 8, 64)          256       \n",
            "_________________________________________________________________\n",
            "max_pooling2d_1 (MaxPooling2 (None, 4, 4, 64)          0         \n",
            "_________________________________________________________________\n",
            "dropout_1 (Dropout)          (None, 4, 4, 64)          0         \n",
            "_________________________________________________________________\n",
            "flatten (Flatten)            (None, 1024)              0         \n",
            "_________________________________________________________________\n",
            "dense (Dense)                (None, 128)               131200    \n",
            "_________________________________________________________________\n",
            "batch_normalization_2 (Batch (None, 128)               512       \n",
            "_________________________________________________________________\n",
            "dropout_2 (Dropout)          (None, 128)               0         \n",
            "_________________________________________________________________\n",
            "dense_1 (Dense)              (None, 10)                1290      \n",
            "=================================================================\n",
            "Total params: 198,378\n",
            "Trainable params: 197,930\n",
            "Non-trainable params: 448\n",
            "_________________________________________________________________\n"
          ],
          "name": "stdout"
        }
      ]
    },
    {
      "cell_type": "markdown",
      "metadata": {
        "id": "kzfPEHEFQKdf"
      },
      "source": [
        "## Confussion Matrix and Classification Report"
      ]
    },
    {
      "cell_type": "markdown",
      "metadata": {
        "id": "i1bo1xSdQPlg"
      },
      "source": [
        "predicting the test dataset"
      ]
    },
    {
      "cell_type": "code",
      "metadata": {
        "id": "RnFgAQZiI8hm"
      },
      "source": [
        "y_true = np.argmax(y_test_classifier,axis=1)\n",
        "y_p = model.predict(X_test_classifier)\n",
        "y_predicted = np.argmax(y_p,axis=1)"
      ],
      "execution_count": 5,
      "outputs": []
    },
    {
      "cell_type": "markdown",
      "metadata": {
        "id": "JL3ABRQ7QU3u"
      },
      "source": [
        "the confussion matrix for the classified testing dataset"
      ]
    },
    {
      "cell_type": "code",
      "metadata": {
        "colab": {
          "base_uri": "https://localhost:8080/"
        },
        "id": "DtDqlvINI_0D",
        "outputId": "bb4503f6-e9e0-4cfb-a47d-0e3eeb5680d8"
      },
      "source": [
        "print('confusion matrix')\n",
        "print(confusion_matrix(y_true,y_predicted))"
      ],
      "execution_count": 6,
      "outputs": [
        {
          "output_type": "stream",
          "text": [
            "confusion matrix\n",
            "[[ 979    0    0    0    0    0    0    1    0    0]\n",
            " [   0 1133    0    2    0    0    0    0    0    0]\n",
            " [   0    0 1027    0    0    0    0    5    0    0]\n",
            " [   0    0    0 1008    0    1    0    0    1    0]\n",
            " [   0    0    0    0  980    0    0    0    0    2]\n",
            " [   1    0    0    7    0  882    1    0    0    1]\n",
            " [   4    3    0    0    1    1  948    0    1    0]\n",
            " [   0    3    1    0    0    0    0 1023    1    0]\n",
            " [   1    0    1    1    0    0    0    0  969    2]\n",
            " [   0    0    1    0    4    0    0    0    1 1003]]\n"
          ],
          "name": "stdout"
        }
      ]
    },
    {
      "cell_type": "markdown",
      "metadata": {
        "id": "9t-tysW5Qa7J"
      },
      "source": [
        "classifiaction report from the test dataset for the trained model"
      ]
    },
    {
      "cell_type": "code",
      "metadata": {
        "colab": {
          "base_uri": "https://localhost:8080/"
        },
        "id": "7KwRTM-nJD8v",
        "outputId": "8967f8cd-87d5-4bf2-b49d-bbe215e93322"
      },
      "source": [
        "print('Classification report')\n",
        "print(classification_report(y_true,y_predicted))"
      ],
      "execution_count": 7,
      "outputs": [
        {
          "output_type": "stream",
          "text": [
            "Classification report\n",
            "              precision    recall  f1-score   support\n",
            "\n",
            "           0       0.99      1.00      1.00       980\n",
            "           1       0.99      1.00      1.00      1135\n",
            "           2       1.00      1.00      1.00      1032\n",
            "           3       0.99      1.00      0.99      1010\n",
            "           4       0.99      1.00      1.00       982\n",
            "           5       1.00      0.99      0.99       892\n",
            "           6       1.00      0.99      0.99       958\n",
            "           7       0.99      1.00      0.99      1028\n",
            "           8       1.00      0.99      1.00       974\n",
            "           9       1.00      0.99      0.99      1009\n",
            "\n",
            "    accuracy                           1.00     10000\n",
            "   macro avg       1.00      1.00      1.00     10000\n",
            "weighted avg       1.00      1.00      1.00     10000\n",
            "\n"
          ],
          "name": "stdout"
        }
      ]
    },
    {
      "cell_type": "markdown",
      "metadata": {
        "id": "F_5m0DCfQpuH"
      },
      "source": [
        "## Visual Representation"
      ]
    },
    {
      "cell_type": "markdown",
      "metadata": {
        "id": "THEFQgkeQx01"
      },
      "source": [
        "the test image visual representation"
      ]
    },
    {
      "cell_type": "code",
      "metadata": {
        "colab": {
          "base_uri": "https://localhost:8080/",
          "height": 265
        },
        "id": "HvOLrkTeJSBL",
        "outputId": "ec935387-907b-49fe-9987-7a83f599115e"
      },
      "source": [
        "test_image = X_test[101]\n",
        "\n",
        "plt.imshow(test_image)\n",
        "plt.show()"
      ],
      "execution_count": 8,
      "outputs": [
        {
          "output_type": "display_data",
          "data": {
            "image/png": "[encoded data removed]",
            "text/plain": [
              "<Figure size 432x288 with 1 Axes>"
            ]
          },
          "metadata": {
            "tags": [],
            "needs_background": "light"
          }
        }
      ]
    },
    {
      "cell_type": "markdown",
      "metadata": {
        "id": "Jn33ne9OQ2B6"
      },
      "source": [
        "the true label assiciated with the image"
      ]
    },
    {
      "cell_type": "code",
      "metadata": {
        "colab": {
          "base_uri": "https://localhost:8080/"
        },
        "id": "WkjCh1BmJVGI",
        "outputId": "cf8ca6f6-0472-4d06-a383-98b77ddb34d4"
      },
      "source": [
        "print(\"number_original: \", y_test[101])"
      ],
      "execution_count": 9,
      "outputs": [
        {
          "output_type": "stream",
          "text": [
            "number_original:  0\n"
          ],
          "name": "stdout"
        }
      ]
    },
    {
      "cell_type": "markdown",
      "metadata": {
        "id": "nZFatUcNQ75x"
      },
      "source": [
        "preparing the input test image to feed into the model"
      ]
    },
    {
      "cell_type": "code",
      "metadata": {
        "id": "3ULynTJsJXiG"
      },
      "source": [
        "model_image = np.expand_dims(test_image,-1)\n",
        "model_image = np.expand_dims(model_image,0)"
      ],
      "execution_count": 10,
      "outputs": []
    },
    {
      "cell_type": "markdown",
      "metadata": {
        "id": "fwQqOaHpRBH1"
      },
      "source": [
        "predicting the image class from the model"
      ]
    },
    {
      "cell_type": "code",
      "metadata": {
        "id": "oec97l-gJZf0"
      },
      "source": [
        "prediction = model.predict(model_image)\n",
        "number_predicted = np.argmax(prediction,axis=1)"
      ],
      "execution_count": 11,
      "outputs": []
    },
    {
      "cell_type": "markdown",
      "metadata": {
        "id": "_rAujezSRFGw"
      },
      "source": [
        "predicted number by the model"
      ]
    },
    {
      "cell_type": "code",
      "metadata": {
        "colab": {
          "base_uri": "https://localhost:8080/"
        },
        "id": "6OjmphWlJcdy",
        "outputId": "5ce649db-82b4-4e9a-a169-bbe950b2f7fc"
      },
      "source": [
        "print(\"number_predicted: \", int(number_predicted))"
      ],
      "execution_count": 12,
      "outputs": [
        {
          "output_type": "stream",
          "text": [
            "number_predicted:  0\n"
          ],
          "name": "stdout"
        }
      ]
    },
    {
      "cell_type": "code",
      "metadata": {
        "id": "OPlzPzHaJe8j"
      },
      "source": [
        ""
      ],
      "execution_count": 12,
      "outputs": []
    }
  ]
}
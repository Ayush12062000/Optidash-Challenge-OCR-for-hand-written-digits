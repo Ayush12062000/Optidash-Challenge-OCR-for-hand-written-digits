{
  "nbformat": 4,
  "nbformat_minor": 0,
  "metadata": {
    "kernelspec": {
      "name": "python3",
      "display_name": "Python 3"
    },
    "language_info": {
      "codemirror_mode": {
        "name": "ipython",
        "version": 3
      },
      "file_extension": ".py",
      "mimetype": "text/x-python",
      "name": "python",
      "nbconvert_exporter": "python",
      "pygments_lexer": "ipython3",
      "version": "3.5.5"
    },
    "colab": {
      "name": "train_classifier.ipynb",
      "provenance": [],
      "collapsed_sections": []
    },
    "accelerator": "GPU"
  },
  "cells": [
    {
      "cell_type": "markdown",
      "metadata": {
        "collapsed": true,
        "id": "rKrlTvC3ZywV"
      },
      "source": [
        "# Fetching dataset"
      ]
    },
    {
      "cell_type": "code",
      "metadata": {
        "id": "AC-jTROWAa2B"
      },
      "source": [
        "import keras\n",
        "import matplotlib.pyplot as plt\n",
        "import numpy as np\n",
        "\n",
        "from sklearn.model_selection import train_test_split\n",
        "from sklearn.metrics import confusion_matrix,classification_report"
      ],
      "execution_count": 1,
      "outputs": []
    },
    {
      "cell_type": "code",
      "metadata": {
        "id": "ek4LRLIUBb2j"
      },
      "source": [
        "%matplotlib inline"
      ],
      "execution_count": 2,
      "outputs": []
    },
    {
      "cell_type": "code",
      "metadata": {
        "colab": {
          "base_uri": "https://localhost:8080/"
        },
        "id": "deeC_9LIBfav",
        "outputId": "f2e6091a-074b-420a-8b7a-d2d58383a0d1"
      },
      "source": [
        "(X_train, y_train), (X_test, y_test) = keras.datasets.mnist.load_data()"
      ],
      "execution_count": 3,
      "outputs": [
        {
          "output_type": "stream",
          "text": [
            "Downloading data from https://storage.googleapis.com/tensorflow/tf-keras-datasets/mnist.npz\n",
            "11493376/11490434 [==============================] - 0s 0us/step\n"
          ],
          "name": "stdout"
        }
      ]
    },
    {
      "cell_type": "code",
      "metadata": {
        "id": "5Pek5ZQ1bAQA"
      },
      "source": [
        "y_train_catagorical = keras.utils.to_categorical(y_train, 10)\n",
        "y_test_catagorical = keras.utils.to_categorical(y_test, 10)"
      ],
      "execution_count": 4,
      "outputs": []
    },
    {
      "cell_type": "code",
      "metadata": {
        "id": "LlPJuO-JbaIp"
      },
      "source": [
        "X_train_expanded =  np.expand_dims(X_train, axis=-1)\n",
        "X_test_expanded =  np.expand_dims(X_test, axis=-1)"
      ],
      "execution_count": 5,
      "outputs": []
    },
    {
      "cell_type": "code",
      "metadata": {
        "id": "vW1g790LaPBo"
      },
      "source": [
        "X_train_classifier, X_val_classifier, y_train_classifier, y_val_classifier = train_test_split(X_train_expanded, y_train_catagorical, test_size = 0.1, random_state = 1)"
      ],
      "execution_count": 6,
      "outputs": []
    },
    {
      "cell_type": "code",
      "metadata": {
        "id": "aJPRVgxubm4C"
      },
      "source": [
        "X_test_classifier = X_test_expanded\n",
        "y_test_classifier = y_test_catagorical"
      ],
      "execution_count": 7,
      "outputs": []
    },
    {
      "cell_type": "markdown",
      "metadata": {
        "id": "flOmMipACaaA"
      },
      "source": [
        "## Vizualizing the Dataset"
      ]
    },
    {
      "cell_type": "code",
      "metadata": {
        "colab": {
          "base_uri": "https://localhost:8080/",
          "height": 282
        },
        "id": "kW1sOUVKCNYu",
        "outputId": "fedca7b2-6f5e-4734-931c-d8420c7d3a5b"
      },
      "source": [
        "plt.imshow(X_train[101])"
      ],
      "execution_count": 8,
      "outputs": [
        {
          "output_type": "execute_result",
          "data": {
            "text/plain": [
              "<matplotlib.image.AxesImage at 0x7f8d7861e6d0>"
            ]
          },
          "metadata": {
            "tags": []
          },
          "execution_count": 8
        },
        {
          "output_type": "display_data",
          "data": {
            "image/png": "[encoded data removed]",
            "text/plain": [
              "<Figure size 432x288 with 1 Axes>"
            ]
          },
          "metadata": {
            "tags": [],
            "needs_background": "light"
          }
        }
      ]
    },
    {
      "cell_type": "code",
      "metadata": {
        "colab": {
          "base_uri": "https://localhost:8080/"
        },
        "id": "udycMz93CNWY",
        "outputId": "bdbe5312-25ac-463b-f86d-218e7118f3f6"
      },
      "source": [
        "y_train[101]"
      ],
      "execution_count": 9,
      "outputs": [
        {
          "output_type": "execute_result",
          "data": {
            "text/plain": [
              "7"
            ]
          },
          "metadata": {
            "tags": []
          },
          "execution_count": 9
        }
      ]
    },
    {
      "cell_type": "markdown",
      "metadata": {
        "id": "qNUOQfaVDEYw"
      },
      "source": [
        "# Classifier"
      ]
    },
    {
      "cell_type": "code",
      "metadata": {
        "id": "qBI_J5a9DHMU"
      },
      "source": [
        "from keras.models import Sequential\n",
        "from keras.layers import Conv2D\n",
        "from keras.layers import MaxPooling2D\n",
        "from keras.layers import Flatten\n",
        "from keras.layers import Dense\n",
        "from keras.layers import Dropout"
      ],
      "execution_count": 10,
      "outputs": []
    },
    {
      "cell_type": "code",
      "metadata": {
        "id": "9x9-rKeADHIo"
      },
      "source": [
        "classifier = Sequential()\n",
        "\n",
        "classifier.add(Conv2D(32, (3, 3), input_shape = (28, 28, 1), activation = 'relu', kernel_initializer='random_normal'))\n",
        "classifier.add(Conv2D(32, (3, 3), activation = 'relu', kernel_initializer = 'random_normal'))\n",
        "classifier.add(MaxPooling2D(pool_size = (2,2)))\n",
        "classifier.add(Dropout(0.6))\n",
        "\n",
        "classifier.add(Conv2D(64, (3,3), activation = 'relu', kernel_initializer = 'random_normal'))\n",
        "classifier.add(Conv2D(64, (3,3), activation = 'relu', kernel_initializer = 'random_normal'))\n",
        "classifier.add(MaxPooling2D(pool_size = (2,2)))\n",
        "classifier.add(Dropout(0.6))\n",
        "\n",
        "classifier.add(Flatten())\n",
        "\n",
        "classifier.add(Dense(units = 128, activation = 'relu', kernel_initializer='random_normal'))\n",
        "classifier.add(Dropout(0.6))\n",
        "\n",
        "classifier.add(Dense(units = 10, activation = 'softmax', kernel_initializer='random_normal'))\n",
        "\n"
      ],
      "execution_count": 11,
      "outputs": []
    },
    {
      "cell_type": "code",
      "metadata": {
        "id": "f84UuX7SDHG5"
      },
      "source": [
        "opt = keras.optimizers.Adam(\n",
        "    learning_rate=0.001\n",
        ")"
      ],
      "execution_count": 12,
      "outputs": []
    },
    {
      "cell_type": "code",
      "metadata": {
        "id": "1eMpZjO0Kerh"
      },
      "source": [
        "classifier.compile(loss = 'categorical_crossentropy', optimizer = opt, metrics=['accuracy'])"
      ],
      "execution_count": 13,
      "outputs": []
    },
    {
      "cell_type": "markdown",
      "metadata": {
        "id": "DnDtjenfKpD1"
      },
      "source": [
        "Model"
      ]
    },
    {
      "cell_type": "code",
      "metadata": {
        "colab": {
          "base_uri": "https://localhost:8080/"
        },
        "id": "sGkp8PGTKrfb",
        "outputId": "da52543e-ed77-4f3b-d350-cf53dcf70ad0"
      },
      "source": [
        "classifier.summary()"
      ],
      "execution_count": 14,
      "outputs": [
        {
          "output_type": "stream",
          "text": [
            "Model: \"sequential\"\n",
            "_________________________________________________________________\n",
            "Layer (type)                 Output Shape              Param #   \n",
            "=================================================================\n",
            "conv2d (Conv2D)              (None, 26, 26, 32)        320       \n",
            "_________________________________________________________________\n",
            "conv2d_1 (Conv2D)            (None, 24, 24, 32)        9248      \n",
            "_________________________________________________________________\n",
            "max_pooling2d (MaxPooling2D) (None, 12, 12, 32)        0         \n",
            "_________________________________________________________________\n",
            "dropout (Dropout)            (None, 12, 12, 32)        0         \n",
            "_________________________________________________________________\n",
            "conv2d_2 (Conv2D)            (None, 10, 10, 64)        18496     \n",
            "_________________________________________________________________\n",
            "conv2d_3 (Conv2D)            (None, 8, 8, 64)          36928     \n",
            "_________________________________________________________________\n",
            "max_pooling2d_1 (MaxPooling2 (None, 4, 4, 64)          0         \n",
            "_________________________________________________________________\n",
            "dropout_1 (Dropout)          (None, 4, 4, 64)          0         \n",
            "_________________________________________________________________\n",
            "flatten (Flatten)            (None, 1024)              0         \n",
            "_________________________________________________________________\n",
            "dense (Dense)                (None, 128)               131200    \n",
            "_________________________________________________________________\n",
            "dropout_2 (Dropout)          (None, 128)               0         \n",
            "_________________________________________________________________\n",
            "dense_1 (Dense)              (None, 10)                1290      \n",
            "=================================================================\n",
            "Total params: 197,482\n",
            "Trainable params: 197,482\n",
            "Non-trainable params: 0\n",
            "_________________________________________________________________\n"
          ],
          "name": "stdout"
        }
      ]
    },
    {
      "cell_type": "markdown",
      "metadata": {
        "id": "roUhpZZjK3tg"
      },
      "source": [
        "Training Model"
      ]
    },
    {
      "cell_type": "code",
      "metadata": {
        "id": "AkZ7CDXRK6FR"
      },
      "source": [
        "callbacks = [\n",
        "    keras.callbacks.ModelCheckpoint('classifier.h5', save_best_only=True),\n",
        "    keras.callbacks.ReduceLROnPlateau()]"
      ],
      "execution_count": 15,
      "outputs": []
    },
    {
      "cell_type": "code",
      "metadata": {
        "colab": {
          "base_uri": "https://localhost:8080/"
        },
        "id": "Bg6AXiWeLENP",
        "outputId": "899d9925-5286-4847-bf0e-1561379af40b"
      },
      "source": [
        "history = classifier.fit(X_train_classifier, y_train_classifier, batch_size=32, epochs=100, verbose=1, validation_data = (X_val_classifier, y_val_classifier), callbacks = callbacks)"
      ],
      "execution_count": 16,
      "outputs": [
        {
          "output_type": "stream",
          "text": [
            "Epoch 1/100\n",
            "1688/1688 [==============================] - 40s 4ms/step - loss: 1.7524 - accuracy: 0.5316 - val_loss: 0.1128 - val_accuracy: 0.9650\n",
            "Epoch 2/100\n",
            "1688/1688 [==============================] - 7s 4ms/step - loss: 0.2873 - accuracy: 0.9134 - val_loss: 0.0770 - val_accuracy: 0.9777\n",
            "Epoch 3/100\n",
            "1688/1688 [==============================] - 7s 4ms/step - loss: 0.2104 - accuracy: 0.9410 - val_loss: 0.0601 - val_accuracy: 0.9818\n",
            "Epoch 4/100\n",
            "1688/1688 [==============================] - 6s 4ms/step - loss: 0.1691 - accuracy: 0.9514 - val_loss: 0.0687 - val_accuracy: 0.9800\n",
            "Epoch 5/100\n",
            "1688/1688 [==============================] - 6s 4ms/step - loss: 0.1546 - accuracy: 0.9552 - val_loss: 0.0511 - val_accuracy: 0.9843\n",
            "Epoch 6/100\n",
            "1688/1688 [==============================] - 7s 4ms/step - loss: 0.1441 - accuracy: 0.9587 - val_loss: 0.0483 - val_accuracy: 0.9853\n",
            "Epoch 7/100\n",
            "1688/1688 [==============================] - 7s 4ms/step - loss: 0.1321 - accuracy: 0.9626 - val_loss: 0.0461 - val_accuracy: 0.9860\n",
            "Epoch 8/100\n",
            "1688/1688 [==============================] - 7s 4ms/step - loss: 0.1303 - accuracy: 0.9645 - val_loss: 0.0371 - val_accuracy: 0.9887\n",
            "Epoch 9/100\n",
            "1688/1688 [==============================] - 7s 4ms/step - loss: 0.1256 - accuracy: 0.9643 - val_loss: 0.0425 - val_accuracy: 0.9870\n",
            "Epoch 10/100\n",
            "1688/1688 [==============================] - 7s 4ms/step - loss: 0.1186 - accuracy: 0.9657 - val_loss: 0.0457 - val_accuracy: 0.9870\n",
            "Epoch 11/100\n",
            "1688/1688 [==============================] - 7s 4ms/step - loss: 0.1212 - accuracy: 0.9661 - val_loss: 0.0419 - val_accuracy: 0.9862\n",
            "Epoch 12/100\n",
            "1688/1688 [==============================] - 7s 4ms/step - loss: 0.1133 - accuracy: 0.9691 - val_loss: 0.0415 - val_accuracy: 0.9858\n",
            "Epoch 13/100\n",
            "1688/1688 [==============================] - 7s 4ms/step - loss: 0.1145 - accuracy: 0.9687 - val_loss: 0.0407 - val_accuracy: 0.9887\n",
            "Epoch 14/100\n",
            "1688/1688 [==============================] - 7s 4ms/step - loss: 0.1061 - accuracy: 0.9702 - val_loss: 0.0428 - val_accuracy: 0.9882\n",
            "Epoch 15/100\n",
            "1688/1688 [==============================] - 7s 4ms/step - loss: 0.1099 - accuracy: 0.9689 - val_loss: 0.0391 - val_accuracy: 0.9882\n",
            "Epoch 16/100\n",
            "1688/1688 [==============================] - 7s 4ms/step - loss: 0.1016 - accuracy: 0.9715 - val_loss: 0.0327 - val_accuracy: 0.9908\n",
            "Epoch 17/100\n",
            "1688/1688 [==============================] - 7s 4ms/step - loss: 0.1054 - accuracy: 0.9703 - val_loss: 0.0397 - val_accuracy: 0.9880\n",
            "Epoch 18/100\n",
            "1688/1688 [==============================] - 7s 4ms/step - loss: 0.0963 - accuracy: 0.9735 - val_loss: 0.0339 - val_accuracy: 0.9895\n",
            "Epoch 19/100\n",
            "1688/1688 [==============================] - 7s 4ms/step - loss: 0.0974 - accuracy: 0.9732 - val_loss: 0.0339 - val_accuracy: 0.9893\n",
            "Epoch 20/100\n",
            "1688/1688 [==============================] - 7s 4ms/step - loss: 0.1034 - accuracy: 0.9721 - val_loss: 0.0314 - val_accuracy: 0.9898\n",
            "Epoch 21/100\n",
            "1688/1688 [==============================] - 7s 4ms/step - loss: 0.1024 - accuracy: 0.9725 - val_loss: 0.0334 - val_accuracy: 0.9912\n",
            "Epoch 22/100\n",
            "1688/1688 [==============================] - 7s 4ms/step - loss: 0.0979 - accuracy: 0.9720 - val_loss: 0.0324 - val_accuracy: 0.9900\n",
            "Epoch 23/100\n",
            "1688/1688 [==============================] - 7s 4ms/step - loss: 0.0997 - accuracy: 0.9717 - val_loss: 0.0749 - val_accuracy: 0.9815\n",
            "Epoch 24/100\n",
            "1688/1688 [==============================] - 7s 4ms/step - loss: 0.1099 - accuracy: 0.9695 - val_loss: 0.0417 - val_accuracy: 0.9888\n",
            "Epoch 25/100\n",
            "1688/1688 [==============================] - 6s 4ms/step - loss: 0.1052 - accuracy: 0.9701 - val_loss: 0.0326 - val_accuracy: 0.9902\n",
            "Epoch 26/100\n",
            "1688/1688 [==============================] - 7s 4ms/step - loss: 0.1036 - accuracy: 0.9715 - val_loss: 0.0406 - val_accuracy: 0.9887\n",
            "Epoch 27/100\n",
            "1688/1688 [==============================] - 7s 4ms/step - loss: 0.0971 - accuracy: 0.9721 - val_loss: 0.0412 - val_accuracy: 0.9893\n",
            "Epoch 28/100\n",
            "1688/1688 [==============================] - 7s 4ms/step - loss: 0.0973 - accuracy: 0.9727 - val_loss: 0.0400 - val_accuracy: 0.9883\n",
            "Epoch 29/100\n",
            "1688/1688 [==============================] - 6s 4ms/step - loss: 0.0958 - accuracy: 0.9733 - val_loss: 0.0383 - val_accuracy: 0.9885\n",
            "Epoch 30/100\n",
            "1688/1688 [==============================] - 6s 4ms/step - loss: 0.0959 - accuracy: 0.9730 - val_loss: 0.0375 - val_accuracy: 0.9893\n",
            "Epoch 31/100\n",
            "1688/1688 [==============================] - 7s 4ms/step - loss: 0.0787 - accuracy: 0.9790 - val_loss: 0.0343 - val_accuracy: 0.9903\n",
            "Epoch 32/100\n",
            "1688/1688 [==============================] - 7s 4ms/step - loss: 0.0708 - accuracy: 0.9810 - val_loss: 0.0330 - val_accuracy: 0.9908\n",
            "Epoch 33/100\n",
            "1688/1688 [==============================] - 7s 4ms/step - loss: 0.0665 - accuracy: 0.9818 - val_loss: 0.0320 - val_accuracy: 0.9913\n",
            "Epoch 34/100\n",
            "1688/1688 [==============================] - 7s 4ms/step - loss: 0.0645 - accuracy: 0.9825 - val_loss: 0.0312 - val_accuracy: 0.9905\n",
            "Epoch 35/100\n",
            "1688/1688 [==============================] - 7s 4ms/step - loss: 0.0643 - accuracy: 0.9823 - val_loss: 0.0287 - val_accuracy: 0.9915\n",
            "Epoch 36/100\n",
            "1688/1688 [==============================] - 7s 4ms/step - loss: 0.0595 - accuracy: 0.9836 - val_loss: 0.0286 - val_accuracy: 0.9905\n",
            "Epoch 37/100\n",
            "1688/1688 [==============================] - 7s 4ms/step - loss: 0.0546 - accuracy: 0.9844 - val_loss: 0.0291 - val_accuracy: 0.9918\n",
            "Epoch 38/100\n",
            "1688/1688 [==============================] - 6s 4ms/step - loss: 0.0575 - accuracy: 0.9830 - val_loss: 0.0294 - val_accuracy: 0.9910\n",
            "Epoch 39/100\n",
            "1688/1688 [==============================] - 7s 4ms/step - loss: 0.0538 - accuracy: 0.9834 - val_loss: 0.0284 - val_accuracy: 0.9920\n",
            "Epoch 40/100\n",
            "1688/1688 [==============================] - 7s 4ms/step - loss: 0.0541 - accuracy: 0.9847 - val_loss: 0.0282 - val_accuracy: 0.9917\n",
            "Epoch 41/100\n",
            "1688/1688 [==============================] - 7s 4ms/step - loss: 0.0544 - accuracy: 0.9846 - val_loss: 0.0265 - val_accuracy: 0.9925\n",
            "Epoch 42/100\n",
            "1688/1688 [==============================] - 7s 4ms/step - loss: 0.0522 - accuracy: 0.9849 - val_loss: 0.0285 - val_accuracy: 0.9927\n",
            "Epoch 43/100\n",
            "1688/1688 [==============================] - 7s 4ms/step - loss: 0.0559 - accuracy: 0.9840 - val_loss: 0.0274 - val_accuracy: 0.9918\n",
            "Epoch 44/100\n",
            "1688/1688 [==============================] - 7s 4ms/step - loss: 0.0550 - accuracy: 0.9845 - val_loss: 0.0268 - val_accuracy: 0.9923\n",
            "Epoch 45/100\n",
            "1688/1688 [==============================] - 7s 4ms/step - loss: 0.0471 - accuracy: 0.9851 - val_loss: 0.0257 - val_accuracy: 0.9928\n",
            "Epoch 46/100\n",
            "1688/1688 [==============================] - 7s 4ms/step - loss: 0.0494 - accuracy: 0.9861 - val_loss: 0.0262 - val_accuracy: 0.9923\n",
            "Epoch 47/100\n",
            "1688/1688 [==============================] - 7s 4ms/step - loss: 0.0513 - accuracy: 0.9851 - val_loss: 0.0292 - val_accuracy: 0.9918\n",
            "Epoch 48/100\n",
            "1688/1688 [==============================] - 7s 4ms/step - loss: 0.0502 - accuracy: 0.9857 - val_loss: 0.0259 - val_accuracy: 0.9925\n",
            "Epoch 49/100\n",
            "1688/1688 [==============================] - 7s 4ms/step - loss: 0.0516 - accuracy: 0.9841 - val_loss: 0.0276 - val_accuracy: 0.9927\n",
            "Epoch 50/100\n",
            "1688/1688 [==============================] - 7s 4ms/step - loss: 0.0526 - accuracy: 0.9862 - val_loss: 0.0285 - val_accuracy: 0.9920\n",
            "Epoch 51/100\n",
            "1688/1688 [==============================] - 7s 4ms/step - loss: 0.0513 - accuracy: 0.9850 - val_loss: 0.0278 - val_accuracy: 0.9920\n",
            "Epoch 52/100\n",
            "1688/1688 [==============================] - 7s 4ms/step - loss: 0.0537 - accuracy: 0.9842 - val_loss: 0.0263 - val_accuracy: 0.9927\n",
            "Epoch 53/100\n",
            "1688/1688 [==============================] - 7s 4ms/step - loss: 0.0495 - accuracy: 0.9863 - val_loss: 0.0261 - val_accuracy: 0.9933\n",
            "Epoch 54/100\n",
            "1688/1688 [==============================] - 7s 4ms/step - loss: 0.0491 - accuracy: 0.9859 - val_loss: 0.0261 - val_accuracy: 0.9928\n",
            "Epoch 55/100\n",
            "1688/1688 [==============================] - 7s 4ms/step - loss: 0.0532 - accuracy: 0.9849 - val_loss: 0.0269 - val_accuracy: 0.9932\n",
            "Epoch 56/100\n",
            "1688/1688 [==============================] - 7s 4ms/step - loss: 0.0471 - accuracy: 0.9867 - val_loss: 0.0263 - val_accuracy: 0.9930\n",
            "Epoch 57/100\n",
            "1688/1688 [==============================] - 7s 4ms/step - loss: 0.0476 - accuracy: 0.9859 - val_loss: 0.0264 - val_accuracy: 0.9933\n",
            "Epoch 58/100\n",
            "1688/1688 [==============================] - 7s 4ms/step - loss: 0.0483 - accuracy: 0.9859 - val_loss: 0.0260 - val_accuracy: 0.9932\n",
            "Epoch 59/100\n",
            "1688/1688 [==============================] - 7s 4ms/step - loss: 0.0447 - accuracy: 0.9871 - val_loss: 0.0265 - val_accuracy: 0.9933\n",
            "Epoch 60/100\n",
            "1688/1688 [==============================] - 7s 4ms/step - loss: 0.0485 - accuracy: 0.9861 - val_loss: 0.0265 - val_accuracy: 0.9932\n",
            "Epoch 61/100\n",
            "1688/1688 [==============================] - 7s 4ms/step - loss: 0.0443 - accuracy: 0.9871 - val_loss: 0.0269 - val_accuracy: 0.9932\n",
            "Epoch 62/100\n",
            "1688/1688 [==============================] - 7s 4ms/step - loss: 0.0463 - accuracy: 0.9865 - val_loss: 0.0266 - val_accuracy: 0.9933\n",
            "Epoch 63/100\n",
            "1688/1688 [==============================] - 7s 4ms/step - loss: 0.0473 - accuracy: 0.9865 - val_loss: 0.0268 - val_accuracy: 0.9932\n",
            "Epoch 64/100\n",
            "1688/1688 [==============================] - 7s 4ms/step - loss: 0.0478 - accuracy: 0.9864 - val_loss: 0.0266 - val_accuracy: 0.9932\n",
            "Epoch 65/100\n",
            "1688/1688 [==============================] - 7s 4ms/step - loss: 0.0439 - accuracy: 0.9873 - val_loss: 0.0263 - val_accuracy: 0.9935\n",
            "Epoch 66/100\n",
            "1688/1688 [==============================] - 7s 4ms/step - loss: 0.0450 - accuracy: 0.9860 - val_loss: 0.0263 - val_accuracy: 0.9935\n",
            "Epoch 67/100\n",
            "1688/1688 [==============================] - 7s 4ms/step - loss: 0.0444 - accuracy: 0.9878 - val_loss: 0.0263 - val_accuracy: 0.9935\n",
            "Epoch 68/100\n",
            "1688/1688 [==============================] - 7s 4ms/step - loss: 0.0436 - accuracy: 0.9869 - val_loss: 0.0263 - val_accuracy: 0.9935\n",
            "Epoch 69/100\n",
            "1688/1688 [==============================] - 7s 4ms/step - loss: 0.0448 - accuracy: 0.9874 - val_loss: 0.0264 - val_accuracy: 0.9937\n",
            "Epoch 70/100\n",
            "1688/1688 [==============================] - 7s 4ms/step - loss: 0.0465 - accuracy: 0.9868 - val_loss: 0.0263 - val_accuracy: 0.9937\n",
            "Epoch 71/100\n",
            "1688/1688 [==============================] - 7s 4ms/step - loss: 0.0425 - accuracy: 0.9881 - val_loss: 0.0264 - val_accuracy: 0.9935\n",
            "Epoch 72/100\n",
            "1688/1688 [==============================] - 7s 4ms/step - loss: 0.0454 - accuracy: 0.9867 - val_loss: 0.0263 - val_accuracy: 0.9935\n",
            "Epoch 73/100\n",
            "1688/1688 [==============================] - 7s 4ms/step - loss: 0.0422 - accuracy: 0.9881 - val_loss: 0.0263 - val_accuracy: 0.9935\n",
            "Epoch 74/100\n",
            "1688/1688 [==============================] - 7s 4ms/step - loss: 0.0438 - accuracy: 0.9879 - val_loss: 0.0263 - val_accuracy: 0.9935\n",
            "Epoch 75/100\n",
            "1688/1688 [==============================] - 7s 4ms/step - loss: 0.0477 - accuracy: 0.9866 - val_loss: 0.0264 - val_accuracy: 0.9935\n",
            "Epoch 76/100\n",
            "1688/1688 [==============================] - 7s 4ms/step - loss: 0.0426 - accuracy: 0.9874 - val_loss: 0.0264 - val_accuracy: 0.9935\n",
            "Epoch 77/100\n",
            "1688/1688 [==============================] - 7s 4ms/step - loss: 0.0426 - accuracy: 0.9873 - val_loss: 0.0264 - val_accuracy: 0.9935\n",
            "Epoch 78/100\n",
            "1688/1688 [==============================] - 7s 4ms/step - loss: 0.0440 - accuracy: 0.9872 - val_loss: 0.0263 - val_accuracy: 0.9935\n",
            "Epoch 79/100\n",
            "1688/1688 [==============================] - 7s 4ms/step - loss: 0.0449 - accuracy: 0.9867 - val_loss: 0.0263 - val_accuracy: 0.9935\n",
            "Epoch 80/100\n",
            "1688/1688 [==============================] - 7s 4ms/step - loss: 0.0440 - accuracy: 0.9873 - val_loss: 0.0264 - val_accuracy: 0.9935\n",
            "Epoch 81/100\n",
            "1688/1688 [==============================] - 7s 4ms/step - loss: 0.0460 - accuracy: 0.9868 - val_loss: 0.0264 - val_accuracy: 0.9935\n",
            "Epoch 82/100\n",
            "1688/1688 [==============================] - 7s 4ms/step - loss: 0.0421 - accuracy: 0.9879 - val_loss: 0.0264 - val_accuracy: 0.9935\n",
            "Epoch 83/100\n",
            "1688/1688 [==============================] - 7s 4ms/step - loss: 0.0489 - accuracy: 0.9859 - val_loss: 0.0264 - val_accuracy: 0.9935\n",
            "Epoch 84/100\n",
            "1688/1688 [==============================] - 7s 4ms/step - loss: 0.0487 - accuracy: 0.9866 - val_loss: 0.0264 - val_accuracy: 0.9935\n",
            "Epoch 85/100\n",
            "1688/1688 [==============================] - 7s 4ms/step - loss: 0.0429 - accuracy: 0.9875 - val_loss: 0.0264 - val_accuracy: 0.9935\n",
            "Epoch 86/100\n",
            "1688/1688 [==============================] - 7s 4ms/step - loss: 0.0425 - accuracy: 0.9875 - val_loss: 0.0264 - val_accuracy: 0.9935\n",
            "Epoch 87/100\n",
            "1688/1688 [==============================] - 7s 4ms/step - loss: 0.0424 - accuracy: 0.9881 - val_loss: 0.0264 - val_accuracy: 0.9935\n",
            "Epoch 88/100\n",
            "1688/1688 [==============================] - 7s 4ms/step - loss: 0.0434 - accuracy: 0.9879 - val_loss: 0.0264 - val_accuracy: 0.9935\n",
            "Epoch 89/100\n",
            "1688/1688 [==============================] - 7s 4ms/step - loss: 0.0445 - accuracy: 0.9875 - val_loss: 0.0264 - val_accuracy: 0.9935\n",
            "Epoch 90/100\n",
            "1688/1688 [==============================] - 7s 4ms/step - loss: 0.0450 - accuracy: 0.9868 - val_loss: 0.0264 - val_accuracy: 0.9935\n",
            "Epoch 91/100\n",
            "1688/1688 [==============================] - 7s 4ms/step - loss: 0.0452 - accuracy: 0.9867 - val_loss: 0.0264 - val_accuracy: 0.9935\n",
            "Epoch 92/100\n",
            "1688/1688 [==============================] - 7s 4ms/step - loss: 0.0478 - accuracy: 0.9866 - val_loss: 0.0264 - val_accuracy: 0.9935\n",
            "Epoch 93/100\n",
            "1688/1688 [==============================] - 7s 4ms/step - loss: 0.0436 - accuracy: 0.9871 - val_loss: 0.0264 - val_accuracy: 0.9935\n",
            "Epoch 94/100\n",
            "1688/1688 [==============================] - 7s 4ms/step - loss: 0.0432 - accuracy: 0.9877 - val_loss: 0.0264 - val_accuracy: 0.9935\n",
            "Epoch 95/100\n",
            "1688/1688 [==============================] - 7s 4ms/step - loss: 0.0446 - accuracy: 0.9886 - val_loss: 0.0264 - val_accuracy: 0.9935\n",
            "Epoch 96/100\n",
            "1688/1688 [==============================] - 7s 4ms/step - loss: 0.0436 - accuracy: 0.9872 - val_loss: 0.0264 - val_accuracy: 0.9935\n",
            "Epoch 97/100\n",
            "1688/1688 [==============================] - 7s 4ms/step - loss: 0.0467 - accuracy: 0.9864 - val_loss: 0.0264 - val_accuracy: 0.9935\n",
            "Epoch 98/100\n",
            "1688/1688 [==============================] - 7s 4ms/step - loss: 0.0409 - accuracy: 0.9876 - val_loss: 0.0264 - val_accuracy: 0.9935\n",
            "Epoch 99/100\n",
            "1688/1688 [==============================] - 7s 4ms/step - loss: 0.0463 - accuracy: 0.9865 - val_loss: 0.0264 - val_accuracy: 0.9935\n",
            "Epoch 100/100\n",
            "1688/1688 [==============================] - 7s 4ms/step - loss: 0.0465 - accuracy: 0.9867 - val_loss: 0.0264 - val_accuracy: 0.9935\n"
          ],
          "name": "stdout"
        }
      ]
    },
    {
      "cell_type": "markdown",
      "metadata": {
        "id": "JBmtKMgHRbHq"
      },
      "source": [
        "Testing the Dataset"
      ]
    },
    {
      "cell_type": "code",
      "metadata": {
        "id": "cg3zVyWIhhnj"
      },
      "source": [
        "model = keras.models.load_model(\"classifier.h5\")"
      ],
      "execution_count": 17,
      "outputs": []
    },
    {
      "cell_type": "code",
      "metadata": {
        "colab": {
          "base_uri": "https://localhost:8080/"
        },
        "id": "NKmjKZ_ORBcb",
        "outputId": "1c559fb6-319b-4ef8-befd-de520cb6f3b8"
      },
      "source": [
        "y_true = np.argmax(y_test_classifier,axis=1)\n",
        "y_p = model.predict(X_test_classifier)\n",
        "y_predicted = np.argmax(y_p,axis=1)\n",
        "print('confusion matrix')\n",
        "print(confusion_matrix(y_true,y_predicted))"
      ],
      "execution_count": 18,
      "outputs": [
        {
          "output_type": "stream",
          "text": [
            "confusion matrix\n",
            "[[ 976    0    1    0    0    0    1    1    1    0]\n",
            " [   0 1132    0    0    0    1    1    1    0    0]\n",
            " [   1    0 1029    0    0    0    0    2    0    0]\n",
            " [   0    0    0 1007    0    2    0    1    0    0]\n",
            " [   0    0    0    0  976    0    1    0    1    4]\n",
            " [   0    0    0    4    0  886    1    1    0    0]\n",
            " [   3    3    0    0    1    2  949    0    0    0]\n",
            " [   0    2    1    0    0    0    0 1025    0    0]\n",
            " [   0    0    2    1    0    0    0    0  968    3]\n",
            " [   0    1    0    0    4    4    0    1    1  998]]\n"
          ],
          "name": "stdout"
        }
      ]
    },
    {
      "cell_type": "code",
      "metadata": {
        "colab": {
          "base_uri": "https://localhost:8080/"
        },
        "id": "s05bVffRklTp",
        "outputId": "f98adbf6-a876-4048-eafe-9954c7a72625"
      },
      "source": [
        "print('Classification report')\n",
        "print(classification_report(y_true,y_predicted))"
      ],
      "execution_count": 19,
      "outputs": [
        {
          "output_type": "stream",
          "text": [
            "Classification report\n",
            "              precision    recall  f1-score   support\n",
            "\n",
            "           0       1.00      1.00      1.00       980\n",
            "           1       0.99      1.00      1.00      1135\n",
            "           2       1.00      1.00      1.00      1032\n",
            "           3       1.00      1.00      1.00      1010\n",
            "           4       0.99      0.99      0.99       982\n",
            "           5       0.99      0.99      0.99       892\n",
            "           6       1.00      0.99      0.99       958\n",
            "           7       0.99      1.00      1.00      1028\n",
            "           8       1.00      0.99      1.00       974\n",
            "           9       0.99      0.99      0.99      1009\n",
            "\n",
            "    accuracy                           0.99     10000\n",
            "   macro avg       0.99      0.99      0.99     10000\n",
            "weighted avg       0.99      0.99      0.99     10000\n",
            "\n"
          ],
          "name": "stdout"
        }
      ]
    },
    {
      "cell_type": "markdown",
      "metadata": {
        "id": "Qv0iEB8hVRuF"
      },
      "source": [
        "Training Evaluation"
      ]
    },
    {
      "cell_type": "code",
      "metadata": {
        "colab": {
          "base_uri": "https://localhost:8080/",
          "height": 295
        },
        "id": "7LfW8rPVVN53",
        "outputId": "767ecbfa-c52b-4f2e-e94d-536e1d9c3ec1"
      },
      "source": [
        "# summarize history for accuracy\n",
        "plt.plot(history.history['accuracy'][0:100])\n",
        "plt.plot(history.history['val_accuracy'][0:100])\n",
        "plt.title('model accuracy')\n",
        "plt.ylabel('accuracy')\n",
        "plt.xlabel('epoch')\n",
        "plt.legend(['training_accuracy', 'validation_accuracy'], loc='lower right')\n",
        "plt.show()"
      ],
      "execution_count": 20,
      "outputs": [
        {
          "output_type": "display_data",
          "data": {
            "image/png": "[encoded data removed]",
            "text/plain": [
              "<Figure size 432x288 with 1 Axes>"
            ]
          },
          "metadata": {
            "tags": [],
            "needs_background": "light"
          }
        }
      ]
    },
    {
      "cell_type": "code",
      "metadata": {
        "colab": {
          "base_uri": "https://localhost:8080/",
          "height": 295
        },
        "id": "gYfeuKNKlpUZ",
        "outputId": "fa45c263-49ba-4358-c420-48ce511f3839"
      },
      "source": [
        "# summarize history for loss\n",
        "plt.plot(history.history['loss'][0:100])\n",
        "plt.plot(history.history['val_loss'][0:100])\n",
        "plt.title('model loss')\n",
        "plt.ylabel('loss')\n",
        "plt.xlabel('epoch')\n",
        "plt.legend(['training_accuracy', 'validation_accuracy'], loc='upper right')\n",
        "plt.show()"
      ],
      "execution_count": 21,
      "outputs": [
        {
          "output_type": "display_data",
          "data": {
            "image/png": "[encoded data removed]",
            "text/plain": [
              "<Figure size 432x288 with 1 Axes>"
            ]
          },
          "metadata": {
            "tags": [],
            "needs_background": "light"
          }
        }
      ]
    },
    {
      "cell_type": "code",
      "metadata": {
        "id": "nDgcYyKkl6jP"
      },
      "source": [
        ""
      ],
      "execution_count": null,
      "outputs": []
    }
  ]
}
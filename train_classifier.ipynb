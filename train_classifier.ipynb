{
  "nbformat": 4,
  "nbformat_minor": 0,
  "metadata": {
    "kernelspec": {
      "name": "python3",
      "display_name": "Python 3"
    },
    "language_info": {
      "codemirror_mode": {
        "name": "ipython",
        "version": 3
      },
      "file_extension": ".py",
      "mimetype": "text/x-python",
      "name": "python",
      "nbconvert_exporter": "python",
      "pygments_lexer": "ipython3",
      "version": "3.5.5"
    },
    "colab": {
      "name": "train_classifier.ipynb",
      "provenance": [],
      "collapsed_sections": []
    },
    "accelerator": "GPU"
  },
  "cells": [
    {
      "cell_type": "markdown",
      "metadata": {
        "id": "5MgbdIR-Pjdu"
      },
      "source": [
        "# Training the Classifier"
      ]
    },
    {
      "cell_type": "markdown",
      "metadata": {
        "collapsed": true,
        "id": "rKrlTvC3ZywV"
      },
      "source": [
        "## Importing Libraries"
      ]
    },
    {
      "cell_type": "code",
      "metadata": {
        "id": "AC-jTROWAa2B"
      },
      "source": [
        "import keras\n",
        "from build_model import classifier_model\n",
        "from training_data import load_data, preprocess_data\n",
        "\n",
        "import matplotlib.pyplot as plt"
      ],
      "execution_count": 1,
      "outputs": []
    },
    {
      "cell_type": "markdown",
      "metadata": {
        "id": "0vt5LXYAJ234"
      },
      "source": [
        "executing inline ploting command for matplotlib"
      ]
    },
    {
      "cell_type": "code",
      "metadata": {
        "id": "ek4LRLIUBb2j"
      },
      "source": [
        "%matplotlib inline"
      ],
      "execution_count": 2,
      "outputs": []
    },
    {
      "cell_type": "markdown",
      "metadata": {
        "id": "ZA_qt_uQKWr7"
      },
      "source": [
        "## Loading and Preprocessing the dataset"
      ]
    },
    {
      "cell_type": "markdown",
      "metadata": {
        "id": "LC6t0pY0KfrZ"
      },
      "source": [
        "loading the dataset"
      ]
    },
    {
      "cell_type": "code",
      "metadata": {
        "colab": {
          "base_uri": "https://localhost:8080/"
        },
        "id": "3r5u4FwQzNPm",
        "outputId": "9f5586fe-ba90-42a2-cd4c-792414ef620d"
      },
      "source": [
        "X_train, y_train, X_test, y_test = load_data()"
      ],
      "execution_count": 3,
      "outputs": [
        {
          "output_type": "stream",
          "text": [
            "Downloading data from https://storage.googleapis.com/tensorflow/tf-keras-datasets/mnist.npz\n",
            "11493376/11490434 [==============================] - 0s 0us/step\n"
          ],
          "name": "stdout"
        }
      ]
    },
    {
      "cell_type": "markdown",
      "metadata": {
        "id": "Rbih1xArKkaD"
      },
      "source": [
        "preprocessing and finalizing the dataset for training and testing"
      ]
    },
    {
      "cell_type": "code",
      "metadata": {
        "id": "dOzmkPwPKif7"
      },
      "source": [
        "X_train_classifier, y_train_classifier, X_val_classifier, y_val_classifier, X_test_classifier, y_test_classifier = preprocess_data(X_train, y_train, X_test, y_test)"
      ],
      "execution_count": 4,
      "outputs": []
    },
    {
      "cell_type": "markdown",
      "metadata": {
        "id": "flOmMipACaaA"
      },
      "source": [
        "## Vizualizing the Dataset"
      ]
    },
    {
      "cell_type": "code",
      "metadata": {
        "colab": {
          "base_uri": "https://localhost:8080/",
          "height": 282
        },
        "id": "kW1sOUVKCNYu",
        "outputId": "63e8c659-ed18-48d5-bbb0-4eb9ab16a030"
      },
      "source": [
        "plt.imshow(X_train[101])"
      ],
      "execution_count": 5,
      "outputs": [
        {
          "output_type": "execute_result",
          "data": {
            "text/plain": [
              "<matplotlib.image.AxesImage at 0x7fb967aa71d0>"
            ]
          },
          "metadata": {
            "tags": []
          },
          "execution_count": 5
        },
        {
          "output_type": "display_data",
          "data": {
            "image/png": "[encoded data removed]",
            "text/plain": [
              "<Figure size 432x288 with 1 Axes>"
            ]
          },
          "metadata": {
            "tags": [],
            "needs_background": "light"
          }
        }
      ]
    },
    {
      "cell_type": "code",
      "metadata": {
        "colab": {
          "base_uri": "https://localhost:8080/"
        },
        "id": "udycMz93CNWY",
        "outputId": "6fb62fa4-9f8d-4486-c917-0ef31b2eab56"
      },
      "source": [
        "y_train[101]"
      ],
      "execution_count": 6,
      "outputs": [
        {
          "output_type": "execute_result",
          "data": {
            "text/plain": [
              "7"
            ]
          },
          "metadata": {
            "tags": []
          },
          "execution_count": 6
        }
      ]
    },
    {
      "cell_type": "markdown",
      "metadata": {
        "id": "qNUOQfaVDEYw"
      },
      "source": [
        "## Classification Model"
      ]
    },
    {
      "cell_type": "markdown",
      "metadata": {
        "id": "mZupkPrlLBx2"
      },
      "source": [
        "specifying the classification model"
      ]
    },
    {
      "cell_type": "code",
      "metadata": {
        "id": "pOg-p7aJzhTp"
      },
      "source": [
        "classifier = classifier_model()"
      ],
      "execution_count": 7,
      "outputs": []
    },
    {
      "cell_type": "markdown",
      "metadata": {
        "id": "E6S0wx_xLJUG"
      },
      "source": [
        "classification model summary"
      ]
    },
    {
      "cell_type": "code",
      "metadata": {
        "colab": {
          "base_uri": "https://localhost:8080/"
        },
        "id": "sGkp8PGTKrfb",
        "outputId": "629dd146-1965-4d60-ac73-1081bb9dc61e"
      },
      "source": [
        "classifier.summary()"
      ],
      "execution_count": 8,
      "outputs": [
        {
          "output_type": "stream",
          "text": [
            "Model: \"sequential\"\n",
            "_________________________________________________________________\n",
            "Layer (type)                 Output Shape              Param #   \n",
            "=================================================================\n",
            "conv2d (Conv2D)              (None, 26, 26, 32)        320       \n",
            "_________________________________________________________________\n",
            "conv2d_1 (Conv2D)            (None, 24, 24, 32)        9248      \n",
            "_________________________________________________________________\n",
            "batch_normalization (BatchNo (None, 24, 24, 32)        128       \n",
            "_________________________________________________________________\n",
            "max_pooling2d (MaxPooling2D) (None, 12, 12, 32)        0         \n",
            "_________________________________________________________________\n",
            "dropout (Dropout)            (None, 12, 12, 32)        0         \n",
            "_________________________________________________________________\n",
            "conv2d_2 (Conv2D)            (None, 10, 10, 64)        18496     \n",
            "_________________________________________________________________\n",
            "conv2d_3 (Conv2D)            (None, 8, 8, 64)          36928     \n",
            "_________________________________________________________________\n",
            "batch_normalization_1 (Batch (None, 8, 8, 64)          256       \n",
            "_________________________________________________________________\n",
            "max_pooling2d_1 (MaxPooling2 (None, 4, 4, 64)          0         \n",
            "_________________________________________________________________\n",
            "dropout_1 (Dropout)          (None, 4, 4, 64)          0         \n",
            "_________________________________________________________________\n",
            "flatten (Flatten)            (None, 1024)              0         \n",
            "_________________________________________________________________\n",
            "dense (Dense)                (None, 128)               131200    \n",
            "_________________________________________________________________\n",
            "batch_normalization_2 (Batch (None, 128)               512       \n",
            "_________________________________________________________________\n",
            "dropout_2 (Dropout)          (None, 128)               0         \n",
            "_________________________________________________________________\n",
            "dense_1 (Dense)              (None, 10)                1290      \n",
            "=================================================================\n",
            "Total params: 198,378\n",
            "Trainable params: 197,930\n",
            "Non-trainable params: 448\n",
            "_________________________________________________________________\n"
          ],
          "name": "stdout"
        }
      ]
    },
    {
      "cell_type": "markdown",
      "metadata": {
        "id": "roUhpZZjK3tg"
      },
      "source": [
        "### model training"
      ]
    },
    {
      "cell_type": "markdown",
      "metadata": {
        "id": "9hRDxtOMLegZ"
      },
      "source": [
        "specifying the callbacks"
      ]
    },
    {
      "cell_type": "code",
      "metadata": {
        "id": "zsym8oNIztCR"
      },
      "source": [
        "callbacks = [\n",
        "    keras.callbacks.ModelCheckpoint('classifier.h5', save_best_only=True),\n",
        "    keras.callbacks.ReduceLROnPlateau()]"
      ],
      "execution_count": 9,
      "outputs": []
    },
    {
      "cell_type": "markdown",
      "metadata": {
        "id": "rrlrh19SLiKF"
      },
      "source": [
        "training the model and saving the training history"
      ]
    },
    {
      "cell_type": "code",
      "metadata": {
        "colab": {
          "base_uri": "https://localhost:8080/"
        },
        "id": "Nd9sZsWfzxUw",
        "outputId": "e53f261a-ab58-417c-ac4e-3a63e9f08323"
      },
      "source": [
        "history = classifier.fit(X_train_classifier, y_train_classifier, batch_size=32, epochs=100, verbose=1, validation_data = (X_val_classifier, y_val_classifier), callbacks = callbacks)"
      ],
      "execution_count": 10,
      "outputs": [
        {
          "output_type": "stream",
          "text": [
            "Epoch 1/100\n",
            "1688/1688 [==============================] - 41s 5ms/step - loss: 0.3283 - accuracy: 0.8966 - val_loss: 0.0695 - val_accuracy: 0.9788\n",
            "Epoch 2/100\n",
            "1688/1688 [==============================] - 8s 5ms/step - loss: 0.0768 - accuracy: 0.9764 - val_loss: 0.0450 - val_accuracy: 0.9868\n",
            "Epoch 3/100\n",
            "1688/1688 [==============================] - 8s 4ms/step - loss: 0.0557 - accuracy: 0.9831 - val_loss: 0.0343 - val_accuracy: 0.9900\n",
            "Epoch 4/100\n",
            "1688/1688 [==============================] - 8s 5ms/step - loss: 0.0452 - accuracy: 0.9858 - val_loss: 0.0331 - val_accuracy: 0.9905\n",
            "Epoch 5/100\n",
            "1688/1688 [==============================] - 9s 5ms/step - loss: 0.0394 - accuracy: 0.9877 - val_loss: 0.0301 - val_accuracy: 0.9912\n",
            "Epoch 6/100\n",
            "1688/1688 [==============================] - 8s 5ms/step - loss: 0.0324 - accuracy: 0.9897 - val_loss: 0.0333 - val_accuracy: 0.9893\n",
            "Epoch 7/100\n",
            "1688/1688 [==============================] - 8s 5ms/step - loss: 0.0309 - accuracy: 0.9902 - val_loss: 0.0259 - val_accuracy: 0.9935\n",
            "Epoch 8/100\n",
            "1688/1688 [==============================] - 8s 5ms/step - loss: 0.0326 - accuracy: 0.9896 - val_loss: 0.0266 - val_accuracy: 0.9912\n",
            "Epoch 9/100\n",
            "1688/1688 [==============================] - 8s 5ms/step - loss: 0.0270 - accuracy: 0.9915 - val_loss: 0.0289 - val_accuracy: 0.9912\n",
            "Epoch 10/100\n",
            "1688/1688 [==============================] - 8s 5ms/step - loss: 0.0278 - accuracy: 0.9915 - val_loss: 0.0267 - val_accuracy: 0.9925\n",
            "Epoch 11/100\n",
            "1688/1688 [==============================] - 8s 5ms/step - loss: 0.0250 - accuracy: 0.9917 - val_loss: 0.0270 - val_accuracy: 0.9930\n",
            "Epoch 12/100\n",
            "1688/1688 [==============================] - 8s 5ms/step - loss: 0.0234 - accuracy: 0.9923 - val_loss: 0.0236 - val_accuracy: 0.9925\n",
            "Epoch 13/100\n",
            "1688/1688 [==============================] - 8s 5ms/step - loss: 0.0226 - accuracy: 0.9924 - val_loss: 0.0268 - val_accuracy: 0.9912\n",
            "Epoch 14/100\n",
            "1688/1688 [==============================] - 8s 5ms/step - loss: 0.0230 - accuracy: 0.9923 - val_loss: 0.0236 - val_accuracy: 0.9933\n",
            "Epoch 15/100\n",
            "1688/1688 [==============================] - 8s 5ms/step - loss: 0.0183 - accuracy: 0.9943 - val_loss: 0.0242 - val_accuracy: 0.9927\n",
            "Epoch 16/100\n",
            "1688/1688 [==============================] - 8s 5ms/step - loss: 0.0191 - accuracy: 0.9940 - val_loss: 0.0220 - val_accuracy: 0.9932\n",
            "Epoch 17/100\n",
            "1688/1688 [==============================] - 8s 5ms/step - loss: 0.0182 - accuracy: 0.9942 - val_loss: 0.0249 - val_accuracy: 0.9930\n",
            "Epoch 18/100\n",
            "1688/1688 [==============================] - 8s 5ms/step - loss: 0.0163 - accuracy: 0.9949 - val_loss: 0.0237 - val_accuracy: 0.9938\n",
            "Epoch 19/100\n",
            "1688/1688 [==============================] - 8s 5ms/step - loss: 0.0179 - accuracy: 0.9942 - val_loss: 0.0216 - val_accuracy: 0.9937\n",
            "Epoch 20/100\n",
            "1688/1688 [==============================] - 8s 5ms/step - loss: 0.0173 - accuracy: 0.9949 - val_loss: 0.0232 - val_accuracy: 0.9938\n",
            "Epoch 21/100\n",
            "1688/1688 [==============================] - 8s 5ms/step - loss: 0.0175 - accuracy: 0.9945 - val_loss: 0.0204 - val_accuracy: 0.9942\n",
            "Epoch 22/100\n",
            "1688/1688 [==============================] - 8s 5ms/step - loss: 0.0165 - accuracy: 0.9949 - val_loss: 0.0239 - val_accuracy: 0.9932\n",
            "Epoch 23/100\n",
            "1688/1688 [==============================] - 8s 5ms/step - loss: 0.0158 - accuracy: 0.9948 - val_loss: 0.0262 - val_accuracy: 0.9927\n",
            "Epoch 24/100\n",
            "1688/1688 [==============================] - 8s 5ms/step - loss: 0.0152 - accuracy: 0.9946 - val_loss: 0.0241 - val_accuracy: 0.9940\n",
            "Epoch 25/100\n",
            "1688/1688 [==============================] - 8s 5ms/step - loss: 0.0118 - accuracy: 0.9961 - val_loss: 0.0230 - val_accuracy: 0.9930\n",
            "Epoch 26/100\n",
            "1688/1688 [==============================] - 8s 5ms/step - loss: 0.0124 - accuracy: 0.9962 - val_loss: 0.0229 - val_accuracy: 0.9935\n",
            "Epoch 27/100\n",
            "1688/1688 [==============================] - 8s 5ms/step - loss: 0.0132 - accuracy: 0.9960 - val_loss: 0.0267 - val_accuracy: 0.9943\n",
            "Epoch 28/100\n",
            "1688/1688 [==============================] - 8s 5ms/step - loss: 0.0128 - accuracy: 0.9963 - val_loss: 0.0218 - val_accuracy: 0.9933\n",
            "Epoch 29/100\n",
            "1688/1688 [==============================] - 8s 5ms/step - loss: 0.0107 - accuracy: 0.9965 - val_loss: 0.0241 - val_accuracy: 0.9940\n",
            "Epoch 30/100\n",
            "1688/1688 [==============================] - 8s 5ms/step - loss: 0.0131 - accuracy: 0.9958 - val_loss: 0.0228 - val_accuracy: 0.9930\n",
            "Epoch 31/100\n",
            "1688/1688 [==============================] - 8s 5ms/step - loss: 0.0106 - accuracy: 0.9967 - val_loss: 0.0254 - val_accuracy: 0.9925\n",
            "Epoch 32/100\n",
            "1688/1688 [==============================] - 8s 5ms/step - loss: 0.0088 - accuracy: 0.9970 - val_loss: 0.0233 - val_accuracy: 0.9933\n",
            "Epoch 33/100\n",
            "1688/1688 [==============================] - 8s 5ms/step - loss: 0.0100 - accuracy: 0.9965 - val_loss: 0.0233 - val_accuracy: 0.9935\n",
            "Epoch 34/100\n",
            "1688/1688 [==============================] - 8s 5ms/step - loss: 0.0085 - accuracy: 0.9974 - val_loss: 0.0231 - val_accuracy: 0.9932\n",
            "Epoch 35/100\n",
            "1688/1688 [==============================] - 8s 5ms/step - loss: 0.0083 - accuracy: 0.9975 - val_loss: 0.0228 - val_accuracy: 0.9928\n",
            "Epoch 36/100\n",
            "1688/1688 [==============================] - 8s 5ms/step - loss: 0.0088 - accuracy: 0.9970 - val_loss: 0.0226 - val_accuracy: 0.9933\n",
            "Epoch 37/100\n",
            "1688/1688 [==============================] - 8s 5ms/step - loss: 0.0079 - accuracy: 0.9975 - val_loss: 0.0224 - val_accuracy: 0.9935\n",
            "Epoch 38/100\n",
            "1688/1688 [==============================] - 8s 5ms/step - loss: 0.0079 - accuracy: 0.9974 - val_loss: 0.0219 - val_accuracy: 0.9937\n",
            "Epoch 39/100\n",
            "1688/1688 [==============================] - 8s 5ms/step - loss: 0.0072 - accuracy: 0.9976 - val_loss: 0.0221 - val_accuracy: 0.9937\n",
            "Epoch 40/100\n",
            "1688/1688 [==============================] - 8s 5ms/step - loss: 0.0067 - accuracy: 0.9979 - val_loss: 0.0217 - val_accuracy: 0.9937\n",
            "Epoch 41/100\n",
            "1688/1688 [==============================] - 8s 5ms/step - loss: 0.0077 - accuracy: 0.9970 - val_loss: 0.0216 - val_accuracy: 0.9938\n",
            "Epoch 42/100\n",
            "1688/1688 [==============================] - 8s 5ms/step - loss: 0.0077 - accuracy: 0.9974 - val_loss: 0.0215 - val_accuracy: 0.9937\n",
            "Epoch 43/100\n",
            "1688/1688 [==============================] - 8s 5ms/step - loss: 0.0076 - accuracy: 0.9975 - val_loss: 0.0219 - val_accuracy: 0.9938\n",
            "Epoch 44/100\n",
            "1688/1688 [==============================] - 8s 5ms/step - loss: 0.0072 - accuracy: 0.9978 - val_loss: 0.0214 - val_accuracy: 0.9937\n",
            "Epoch 45/100\n",
            "1688/1688 [==============================] - 8s 5ms/step - loss: 0.0070 - accuracy: 0.9978 - val_loss: 0.0214 - val_accuracy: 0.9937\n",
            "Epoch 46/100\n",
            "1688/1688 [==============================] - 8s 5ms/step - loss: 0.0068 - accuracy: 0.9976 - val_loss: 0.0215 - val_accuracy: 0.9937\n",
            "Epoch 47/100\n",
            "1688/1688 [==============================] - 8s 5ms/step - loss: 0.0068 - accuracy: 0.9979 - val_loss: 0.0220 - val_accuracy: 0.9938\n",
            "Epoch 48/100\n",
            "1688/1688 [==============================] - 8s 5ms/step - loss: 0.0070 - accuracy: 0.9976 - val_loss: 0.0213 - val_accuracy: 0.9938\n",
            "Epoch 49/100\n",
            "1688/1688 [==============================] - 8s 5ms/step - loss: 0.0074 - accuracy: 0.9974 - val_loss: 0.0217 - val_accuracy: 0.9938\n",
            "Epoch 50/100\n",
            "1688/1688 [==============================] - 8s 5ms/step - loss: 0.0074 - accuracy: 0.9978 - val_loss: 0.0218 - val_accuracy: 0.9938\n",
            "Epoch 51/100\n",
            "1688/1688 [==============================] - 8s 5ms/step - loss: 0.0076 - accuracy: 0.9974 - val_loss: 0.0215 - val_accuracy: 0.9938\n",
            "Epoch 52/100\n",
            "1688/1688 [==============================] - 8s 5ms/step - loss: 0.0077 - accuracy: 0.9973 - val_loss: 0.0215 - val_accuracy: 0.9938\n",
            "Epoch 53/100\n",
            "1688/1688 [==============================] - 8s 5ms/step - loss: 0.0085 - accuracy: 0.9971 - val_loss: 0.0217 - val_accuracy: 0.9938\n",
            "Epoch 54/100\n",
            "1688/1688 [==============================] - 8s 5ms/step - loss: 0.0060 - accuracy: 0.9980 - val_loss: 0.0216 - val_accuracy: 0.9938\n",
            "Epoch 55/100\n",
            "1688/1688 [==============================] - 8s 5ms/step - loss: 0.0064 - accuracy: 0.9979 - val_loss: 0.0217 - val_accuracy: 0.9937\n",
            "Epoch 56/100\n",
            "1688/1688 [==============================] - 8s 5ms/step - loss: 0.0077 - accuracy: 0.9974 - val_loss: 0.0215 - val_accuracy: 0.9937\n",
            "Epoch 57/100\n",
            "1688/1688 [==============================] - 8s 5ms/step - loss: 0.0058 - accuracy: 0.9981 - val_loss: 0.0218 - val_accuracy: 0.9937\n",
            "Epoch 58/100\n",
            "1688/1688 [==============================] - 8s 5ms/step - loss: 0.0074 - accuracy: 0.9973 - val_loss: 0.0215 - val_accuracy: 0.9938\n",
            "Epoch 59/100\n",
            "1688/1688 [==============================] - 8s 5ms/step - loss: 0.0074 - accuracy: 0.9975 - val_loss: 0.0219 - val_accuracy: 0.9937\n",
            "Epoch 60/100\n",
            "1688/1688 [==============================] - 8s 5ms/step - loss: 0.0070 - accuracy: 0.9979 - val_loss: 0.0215 - val_accuracy: 0.9938\n",
            "Epoch 61/100\n",
            "1688/1688 [==============================] - 8s 5ms/step - loss: 0.0070 - accuracy: 0.9976 - val_loss: 0.0215 - val_accuracy: 0.9938\n",
            "Epoch 62/100\n",
            "1688/1688 [==============================] - 8s 5ms/step - loss: 0.0066 - accuracy: 0.9980 - val_loss: 0.0216 - val_accuracy: 0.9938\n",
            "Epoch 63/100\n",
            "1688/1688 [==============================] - 8s 5ms/step - loss: 0.0059 - accuracy: 0.9983 - val_loss: 0.0217 - val_accuracy: 0.9937\n",
            "Epoch 64/100\n",
            "1688/1688 [==============================] - 8s 5ms/step - loss: 0.0076 - accuracy: 0.9977 - val_loss: 0.0216 - val_accuracy: 0.9937\n",
            "Epoch 65/100\n",
            "1688/1688 [==============================] - 8s 5ms/step - loss: 0.0070 - accuracy: 0.9976 - val_loss: 0.0216 - val_accuracy: 0.9937\n",
            "Epoch 66/100\n",
            "1688/1688 [==============================] - 8s 5ms/step - loss: 0.0070 - accuracy: 0.9978 - val_loss: 0.0216 - val_accuracy: 0.9938\n",
            "Epoch 67/100\n",
            "1688/1688 [==============================] - 8s 5ms/step - loss: 0.0070 - accuracy: 0.9978 - val_loss: 0.0216 - val_accuracy: 0.9938\n",
            "Epoch 68/100\n",
            "1688/1688 [==============================] - 8s 5ms/step - loss: 0.0076 - accuracy: 0.9972 - val_loss: 0.0216 - val_accuracy: 0.9937\n",
            "Epoch 69/100\n",
            "1688/1688 [==============================] - 8s 5ms/step - loss: 0.0072 - accuracy: 0.9975 - val_loss: 0.0215 - val_accuracy: 0.9938\n",
            "Epoch 70/100\n",
            "1688/1688 [==============================] - 8s 5ms/step - loss: 0.0072 - accuracy: 0.9978 - val_loss: 0.0219 - val_accuracy: 0.9937\n",
            "Epoch 71/100\n",
            "1688/1688 [==============================] - 8s 5ms/step - loss: 0.0064 - accuracy: 0.9981 - val_loss: 0.0216 - val_accuracy: 0.9937\n",
            "Epoch 72/100\n",
            "1688/1688 [==============================] - 8s 5ms/step - loss: 0.0072 - accuracy: 0.9972 - val_loss: 0.0217 - val_accuracy: 0.9938\n",
            "Epoch 73/100\n",
            "1688/1688 [==============================] - 8s 5ms/step - loss: 0.0068 - accuracy: 0.9978 - val_loss: 0.0214 - val_accuracy: 0.9938\n",
            "Epoch 74/100\n",
            "1688/1688 [==============================] - 8s 5ms/step - loss: 0.0066 - accuracy: 0.9978 - val_loss: 0.0218 - val_accuracy: 0.9937\n",
            "Epoch 75/100\n",
            "1688/1688 [==============================] - 8s 5ms/step - loss: 0.0069 - accuracy: 0.9979 - val_loss: 0.0216 - val_accuracy: 0.9938\n",
            "Epoch 76/100\n",
            "1688/1688 [==============================] - 8s 5ms/step - loss: 0.0076 - accuracy: 0.9974 - val_loss: 0.0218 - val_accuracy: 0.9938\n",
            "Epoch 77/100\n",
            "1688/1688 [==============================] - 8s 5ms/step - loss: 0.0073 - accuracy: 0.9975 - val_loss: 0.0214 - val_accuracy: 0.9937\n",
            "Epoch 78/100\n",
            "1688/1688 [==============================] - 8s 5ms/step - loss: 0.0066 - accuracy: 0.9978 - val_loss: 0.0214 - val_accuracy: 0.9935\n",
            "Epoch 79/100\n",
            "1688/1688 [==============================] - 8s 5ms/step - loss: 0.0061 - accuracy: 0.9979 - val_loss: 0.0214 - val_accuracy: 0.9938\n",
            "Epoch 80/100\n",
            "1688/1688 [==============================] - 8s 5ms/step - loss: 0.0095 - accuracy: 0.9970 - val_loss: 0.0216 - val_accuracy: 0.9938\n",
            "Epoch 81/100\n",
            "1688/1688 [==============================] - 8s 5ms/step - loss: 0.0079 - accuracy: 0.9969 - val_loss: 0.0217 - val_accuracy: 0.9938\n",
            "Epoch 82/100\n",
            "1688/1688 [==============================] - 8s 5ms/step - loss: 0.0077 - accuracy: 0.9972 - val_loss: 0.0216 - val_accuracy: 0.9938\n",
            "Epoch 83/100\n",
            "1688/1688 [==============================] - 8s 5ms/step - loss: 0.0074 - accuracy: 0.9971 - val_loss: 0.0215 - val_accuracy: 0.9938\n",
            "Epoch 84/100\n",
            "1688/1688 [==============================] - 8s 5ms/step - loss: 0.0068 - accuracy: 0.9978 - val_loss: 0.0214 - val_accuracy: 0.9937\n",
            "Epoch 85/100\n",
            "1688/1688 [==============================] - 8s 5ms/step - loss: 0.0072 - accuracy: 0.9976 - val_loss: 0.0213 - val_accuracy: 0.9937\n",
            "Epoch 86/100\n",
            "1688/1688 [==============================] - 8s 5ms/step - loss: 0.0070 - accuracy: 0.9975 - val_loss: 0.0218 - val_accuracy: 0.9938\n",
            "Epoch 87/100\n",
            "1688/1688 [==============================] - 8s 5ms/step - loss: 0.0081 - accuracy: 0.9975 - val_loss: 0.0217 - val_accuracy: 0.9937\n",
            "Epoch 88/100\n",
            "1688/1688 [==============================] - 8s 5ms/step - loss: 0.0058 - accuracy: 0.9982 - val_loss: 0.0215 - val_accuracy: 0.9938\n",
            "Epoch 89/100\n",
            "1688/1688 [==============================] - 8s 5ms/step - loss: 0.0072 - accuracy: 0.9974 - val_loss: 0.0214 - val_accuracy: 0.9938\n",
            "Epoch 90/100\n",
            "1688/1688 [==============================] - 8s 5ms/step - loss: 0.0066 - accuracy: 0.9980 - val_loss: 0.0216 - val_accuracy: 0.9938\n",
            "Epoch 91/100\n",
            "1688/1688 [==============================] - 8s 5ms/step - loss: 0.0070 - accuracy: 0.9976 - val_loss: 0.0216 - val_accuracy: 0.9935\n",
            "Epoch 92/100\n",
            "1688/1688 [==============================] - 8s 5ms/step - loss: 0.0070 - accuracy: 0.9980 - val_loss: 0.0215 - val_accuracy: 0.9938\n",
            "Epoch 93/100\n",
            "1688/1688 [==============================] - 8s 5ms/step - loss: 0.0080 - accuracy: 0.9978 - val_loss: 0.0216 - val_accuracy: 0.9937\n",
            "Epoch 94/100\n",
            "1688/1688 [==============================] - 8s 5ms/step - loss: 0.0064 - accuracy: 0.9980 - val_loss: 0.0216 - val_accuracy: 0.9937\n",
            "Epoch 95/100\n",
            "1688/1688 [==============================] - 8s 5ms/step - loss: 0.0071 - accuracy: 0.9975 - val_loss: 0.0214 - val_accuracy: 0.9940\n",
            "Epoch 96/100\n",
            "1688/1688 [==============================] - 8s 5ms/step - loss: 0.0075 - accuracy: 0.9974 - val_loss: 0.0216 - val_accuracy: 0.9938\n",
            "Epoch 97/100\n",
            "1688/1688 [==============================] - 8s 5ms/step - loss: 0.0074 - accuracy: 0.9977 - val_loss: 0.0215 - val_accuracy: 0.9937\n",
            "Epoch 98/100\n",
            "1688/1688 [==============================] - 8s 5ms/step - loss: 0.0072 - accuracy: 0.9978 - val_loss: 0.0216 - val_accuracy: 0.9937\n",
            "Epoch 99/100\n",
            "1688/1688 [==============================] - 8s 5ms/step - loss: 0.0072 - accuracy: 0.9977 - val_loss: 0.0216 - val_accuracy: 0.9938\n",
            "Epoch 100/100\n",
            "1688/1688 [==============================] - 8s 5ms/step - loss: 0.0078 - accuracy: 0.9972 - val_loss: 0.0217 - val_accuracy: 0.9937\n"
          ],
          "name": "stdout"
        }
      ]
    },
    {
      "cell_type": "markdown",
      "metadata": {
        "id": "RpS-PqZsLrJM"
      },
      "source": [
        "## Training Evaluation"
      ]
    },
    {
      "cell_type": "markdown",
      "metadata": {
        "id": "p-an2MTgLzXy"
      },
      "source": [
        "model model accuracy performance during training"
      ]
    },
    {
      "cell_type": "code",
      "metadata": {
        "colab": {
          "base_uri": "https://localhost:8080/",
          "height": 295
        },
        "id": "7LfW8rPVVN53",
        "outputId": "6d78dfac-33e3-4c25-f9d1-393bfbffb32e"
      },
      "source": [
        "plt.plot(history.history['accuracy'][0:100])\n",
        "plt.plot(history.history['val_accuracy'][0:100])\n",
        "plt.title('model accuracy')\n",
        "plt.ylabel('accuracy')\n",
        "plt.xlabel('epoch')\n",
        "plt.legend(['training_accuracy', 'validation_accuracy'], loc='lower right')\n",
        "plt.show()"
      ],
      "execution_count": 11,
      "outputs": [
        {
          "output_type": "display_data",
          "data": {
            "image/png": "[encoded data removed]",
            "text/plain": [
              "<Figure size 432x288 with 1 Axes>"
            ]
          },
          "metadata": {
            "tags": [],
            "needs_background": "light"
          }
        }
      ]
    },
    {
      "cell_type": "markdown",
      "metadata": {
        "id": "Jg852KeEL74H"
      },
      "source": [
        "model loss convergence during training"
      ]
    },
    {
      "cell_type": "code",
      "metadata": {
        "colab": {
          "base_uri": "https://localhost:8080/",
          "height": 295
        },
        "id": "gYfeuKNKlpUZ",
        "outputId": "e65d5dcd-678b-42e4-a109-8aec9b2c6671"
      },
      "source": [
        "plt.plot(history.history['loss'][0:100])\n",
        "plt.plot(history.history['val_loss'][0:100])\n",
        "plt.title('model loss')\n",
        "plt.ylabel('loss')\n",
        "plt.xlabel('epoch')\n",
        "plt.legend(['training_accuracy', 'validation_accuracy'], loc='upper right')\n",
        "plt.show()"
      ],
      "execution_count": 12,
      "outputs": [
        {
          "output_type": "display_data",
          "data": {
            "image/png": "[encoded data removed]",
            "text/plain": [
              "<Figure size 432x288 with 1 Axes>"
            ]
          },
          "metadata": {
            "tags": [],
            "needs_background": "light"
          }
        }
      ]
    },
    {
      "cell_type": "code",
      "metadata": {
        "id": "nDgcYyKkl6jP"
      },
      "source": [
        ""
      ],
      "execution_count": null,
      "outputs": []
    }
  ]
}
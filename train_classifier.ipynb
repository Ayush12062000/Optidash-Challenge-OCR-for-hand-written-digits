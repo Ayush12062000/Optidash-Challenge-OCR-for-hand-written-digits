{
  "nbformat": 4,
  "nbformat_minor": 0,
  "metadata": {
    "kernelspec": {
      "name": "python3",
      "display_name": "Python 3"
    },
    "language_info": {
      "codemirror_mode": {
        "name": "ipython",
        "version": 3
      },
      "file_extension": ".py",
      "mimetype": "text/x-python",
      "name": "python",
      "nbconvert_exporter": "python",
      "pygments_lexer": "ipython3",
      "version": "3.5.5"
    },
    "colab": {
      "name": "train_classifier.ipynb",
      "provenance": [],
      "collapsed_sections": []
    },
    "accelerator": "GPU"
  },
  "cells": [
    {
      "cell_type": "markdown",
      "metadata": {
        "collapsed": true,
        "id": "rKrlTvC3ZywV"
      },
      "source": [
        "# Fetching dataset"
      ]
    },
    {
      "cell_type": "code",
      "metadata": {
        "id": "AC-jTROWAa2B"
      },
      "source": [
        "import keras\n",
        "import matplotlib.pyplot as plt\n",
        "import numpy as np\n",
        "\n",
        "from sklearn.model_selection import train_test_split\n",
        "from sklearn.metrics import confusion_matrix,classification_report"
      ],
      "execution_count": 1,
      "outputs": []
    },
    {
      "cell_type": "code",
      "metadata": {
        "id": "ek4LRLIUBb2j"
      },
      "source": [
        "%matplotlib inline"
      ],
      "execution_count": 2,
      "outputs": []
    },
    {
      "cell_type": "code",
      "metadata": {
        "colab": {
          "base_uri": "https://localhost:8080/"
        },
        "id": "deeC_9LIBfav",
        "outputId": "f2e6091a-074b-420a-8b7a-d2d58383a0d1"
      },
      "source": [
        "(X_train, y_train), (X_test, y_test) = keras.datasets.mnist.load_data()"
      ],
      "execution_count": 3,
      "outputs": [
        {
          "output_type": "stream",
          "text": [
            "Downloading data from https://storage.googleapis.com/tensorflow/tf-keras-datasets/mnist.npz\n",
            "11493376/11490434 [==============================] - 0s 0us/step\n"
          ],
          "name": "stdout"
        }
      ]
    },
    {
      "cell_type": "code",
      "metadata": {
        "id": "5Pek5ZQ1bAQA"
      },
      "source": [
        "y_train_catagorical = keras.utils.to_categorical(y_train, 10)\n",
        "y_test_catagorical = keras.utils.to_categorical(y_test, 10)"
      ],
      "execution_count": 4,
      "outputs": []
    },
    {
      "cell_type": "code",
      "metadata": {
        "id": "LlPJuO-JbaIp"
      },
      "source": [
        "X_train_expanded =  np.expand_dims(X_train, axis=-1)\n",
        "X_test_expanded =  np.expand_dims(X_test, axis=-1)"
      ],
      "execution_count": 5,
      "outputs": []
    },
    {
      "cell_type": "code",
      "metadata": {
        "id": "vW1g790LaPBo"
      },
      "source": [
        "X_train_classifier, X_val_classifier, y_train_classifier, y_val_classifier = train_test_split(X_train_expanded, y_train_catagorical, test_size = 0.1, random_state = 1)"
      ],
      "execution_count": 6,
      "outputs": []
    },
    {
      "cell_type": "code",
      "metadata": {
        "id": "aJPRVgxubm4C"
      },
      "source": [
        "X_test_classifier = X_test_expanded\n",
        "y_test_classifier = y_test_catagorical"
      ],
      "execution_count": 7,
      "outputs": []
    },
    {
      "cell_type": "markdown",
      "metadata": {
        "id": "flOmMipACaaA"
      },
      "source": [
        "## Vizualizing the Dataset"
      ]
    },
    {
      "cell_type": "code",
      "metadata": {
        "colab": {
          "base_uri": "https://localhost:8080/",
          "height": 282
        },
        "id": "kW1sOUVKCNYu",
        "outputId": "fedca7b2-6f5e-4734-931c-d8420c7d3a5b"
      },
      "source": [
        "plt.imshow(X_train[101])"
      ],
      "execution_count": 8,
      "outputs": [
        {
          "output_type": "execute_result",
          "data": {
            "text/plain": [
              "<matplotlib.image.AxesImage at 0x7f8d7861e6d0>"
            ]
          },
          "metadata": {
            "tags": []
          },
          "execution_count": 8
        },
        {
          "output_type": "display_data",
          "data": {
            "image/png": "[encoded data removed]",
            "text/plain": [
              "<Figure size 432x288 with 1 Axes>"
            ]
          },
          "metadata": {
            "tags": [],
            "needs_background": "light"
          }
        }
      ]
    },
    {
      "cell_type": "code",
      "metadata": {
        "colab": {
          "base_uri": "https://localhost:8080/"
        },
        "id": "udycMz93CNWY",
        "outputId": "bdbe5312-25ac-463b-f86d-218e7118f3f6"
      },
      "source": [
        "y_train[101]"
      ],
      "execution_count": 9,
      "outputs": [
        {
          "output_type": "execute_result",
          "data": {
            "text/plain": [
              "7"
            ]
          },
          "metadata": {
            "tags": []
          },
          "execution_count": 9
        }
      ]
    },
    {
      "cell_type": "markdown",
      "metadata": {
        "id": "qNUOQfaVDEYw"
      },
      "source": [
        "# Classifier"
      ]
    },
    {
      "cell_type": "code",
      "metadata": {
        "id": "qBI_J5a9DHMU"
      },
      "source": [
        "from keras.models import Sequential\n",
        "from keras.layers import Conv2D\n",
        "from keras.layers import MaxPooling2D\n",
        "from keras.layers import Flatten\n",
        "from keras.layers import Dense\n",
        "from keras.layers import Dropout"
      ],
      "execution_count": 10,
      "outputs": []
    },
    {
      "cell_type": "code",
      "metadata": {
        "id": "9x9-rKeADHIo"
      },
      "source": [
        "classifier = Sequential()\n",
        "\n",
        "classifier.add(Conv2D(32, (3, 3), input_shape = (28, 28, 1), activation = 'relu', kernel_initializer='random_normal'))\n",
        "classifier.add(Conv2D(32, (3, 3), activation = 'relu', kernel_initializer = 'random_normal'))\n",
        "classifier.add(MaxPooling2D(pool_size = (2,2)))\n",
        "classifier.add(Dropout(0.6))\n",
        "\n",
        "classifier.add(Conv2D(64, (3,3), activation = 'relu', kernel_initializer = 'random_normal'))\n",
        "classifier.add(Conv2D(64, (3,3), activation = 'relu', kernel_initializer = 'random_normal'))\n",
        "classifier.add(MaxPooling2D(pool_size = (2,2)))\n",
        "classifier.add(Dropout(0.6))\n",
        "\n",
        "classifier.add(Flatten())\n",
        "\n",
        "classifier.add(Dense(units = 128, activation = 'relu', kernel_initializer='random_normal'))\n",
        "classifier.add(Dropout(0.6))\n",
        "\n",
        "classifier.add(Dense(units = 10, activation = 'softmax', kernel_initializer='random_normal'))\n",
        "\n"
      ],
      "execution_count": 11,
      "outputs": []
    },
    {
      "cell_type": "code",
      "metadata": {
        "id": "f84UuX7SDHG5"
      },
      "source": [
        "opt = keras.optimizers.Adam(\n",
        "    learning_rate=0.001\n",
        ")"
      ],
      "execution_count": 12,
      "outputs": []
    },
    {
      "cell_type": "code",
      "metadata": {
        "id": "1eMpZjO0Kerh"
      },
      "source": [
        "classifier.compile(loss = 'categorical_crossentropy', optimizer = opt, metrics=['accuracy'])"
      ],
      "execution_count": 13,
      "outputs": []
    },
    {
      "cell_type": "markdown",
      "metadata": {
        "id": "DnDtjenfKpD1"
      },
      "source": [
        "Model"
      ]
    },
    {
      "cell_type": "code",
      "metadata": {
        "colab": {
          "base_uri": "https://localhost:8080/"
        },
        "id": "sGkp8PGTKrfb",
        "outputId": "da52543e-ed77-4f3b-d350-cf53dcf70ad0"
      },
      "source": [
        "classifier.summary()"
      ],
      "execution_count": 14,
      "outputs": [
        {
          "output_type": "stream",
          "text": [
            "Model: \"sequential\"\n",
            "_________________________________________________________________\n",
            "Layer (type)                 Output Shape              Param #   \n",
            "=================================================================\n",
            "conv2d (Conv2D)              (None, 26, 26, 32)        320       \n",
            "_________________________________________________________________\n",
            "conv2d_1 (Conv2D)            (None, 24, 24, 32)        9248      \n",
            "_________________________________________________________________\n",
            "max_pooling2d (MaxPooling2D) (None, 12, 12, 32)        0         \n",
            "_________________________________________________________________\n",
            "dropout (Dropout)            (None, 12, 12, 32)        0         \n",
            "_________________________________________________________________\n",
            "conv2d_2 (Conv2D)            (None, 10, 10, 64)        18496     \n",
            "_________________________________________________________________\n",
            "conv2d_3 (Conv2D)            (None, 8, 8, 64)          36928     \n",
            "_________________________________________________________________\n",
            "max_pooling2d_1 (MaxPooling2 (None, 4, 4, 64)          0         \n",
            "_________________________________________________________________\n",
            "dropout_1 (Dropout)          (None, 4, 4, 64)          0         \n",
            "_________________________________________________________________\n",
            "flatten (Flatten)            (None, 1024)              0         \n",
            "_________________________________________________________________\n",
            "dense (Dense)                (None, 128)               131200    \n",
            "_________________________________________________________________\n",
            "dropout_2 (Dropout)          (None, 128)               0         \n",
            "_________________________________________________________________\n",
            "dense_1 (Dense)              (None, 10)                1290      \n",
            "=================================================================\n",
            "Total params: 197,482\n",
            "Trainable params: 197,482\n",
            "Non-trainable params: 0\n",
            "_________________________________________________________________\n"
          ],
          "name": "stdout"
        }
      ]
    },
    {
      "cell_type": "markdown",
      "metadata": {
        "id": "roUhpZZjK3tg"
      },
      "source": [
        "Training Model"
      ]
    },
    {
      "cell_type": "code",
      "metadata": {
        "id": "AkZ7CDXRK6FR"
      },
      "source": [
        "callbacks = [\n",
        "    keras.callbacks.ModelCheckpoint('classifier.h5', save_best_only=True),\n",
        "    keras.callbacks.ReduceLROnPlateau()]"
      ],
      "execution_count": 15,
      "outputs": []
    },
    {
      "cell_type": "code",
      "metadata": {
        "colab": {
          "base_uri": "https://localhost:8080/"
        },
        "id": "Bg6AXiWeLENP",
        "outputId": "4329d6bc-4260-4407-8482-2afd55eb386e"
      },
      "source": [
        "history = classifier.fit(X_train_classifier, y_train_classifier, batch_size=32, epochs=100, verbose=1, validation_data = (X_val_classifier, y_val_classifier), callbacks = callbacks)"
      ],
      "execution_count": null,
      "outputs": [
        {
          "output_type": "stream",
          "text": [
            "Epoch 1/100\n"
          ],
          "name": "stdout"
        }
      ]
    },
    {
      "cell_type": "markdown",
      "metadata": {
        "id": "JBmtKMgHRbHq"
      },
      "source": [
        "Testing the Dataset"
      ]
    },
    {
      "cell_type": "code",
      "metadata": {
        "id": "cg3zVyWIhhnj"
      },
      "source": [
        "model = keras.models.load_model(\"classifier.h5\")"
      ],
      "execution_count": null,
      "outputs": []
    },
    {
      "cell_type": "code",
      "metadata": {
        "id": "NKmjKZ_ORBcb"
      },
      "source": [
        "y_true = np.argmax(y_test_classifier,axis=1)\n",
        "y_p = model.predict(X_test_classifier)\n",
        "y_predicted = np.argmax(y_p,axis=1)\n",
        "print('confusion matrix')\n",
        "print(confusion_matrix(y_true,y_predicted))"
      ],
      "execution_count": null,
      "outputs": []
    },
    {
      "cell_type": "code",
      "metadata": {
        "id": "s05bVffRklTp"
      },
      "source": [
        "print('Classification report')\n",
        "print(classification_report(y_true,y_predicted))"
      ],
      "execution_count": null,
      "outputs": []
    },
    {
      "cell_type": "markdown",
      "metadata": {
        "id": "Qv0iEB8hVRuF"
      },
      "source": [
        "Training Evaluation"
      ]
    },
    {
      "cell_type": "code",
      "metadata": {
        "id": "7LfW8rPVVN53"
      },
      "source": [
        "# summarize history for accuracy\n",
        "plt.plot(history.history['accuracy'][0:100])\n",
        "plt.plot(history.history['val_accuracy'][0:100])\n",
        "plt.title('model accuracy')\n",
        "plt.ylabel('accuracy')\n",
        "plt.xlabel('epoch')\n",
        "plt.legend(['training_accuracy', 'validation_accuracy'], loc='lower right')\n",
        "plt.show()"
      ],
      "execution_count": null,
      "outputs": []
    },
    {
      "cell_type": "code",
      "metadata": {
        "id": "gYfeuKNKlpUZ"
      },
      "source": [
        "# summarize history for loss\n",
        "plt.plot(history.history['loss'][0:100])\n",
        "plt.plot(history.history['val_loss'][0:100])\n",
        "plt.title('model loss')\n",
        "plt.ylabel('loss')\n",
        "plt.xlabel('epoch')\n",
        "plt.legend(['training_accuracy', 'validation_accuracy'], loc='upper right')\n",
        "plt.show()"
      ],
      "execution_count": null,
      "outputs": []
    },
    {
      "cell_type": "code",
      "metadata": {
        "id": "nDgcYyKkl6jP"
      },
      "source": [
        ""
      ],
      "execution_count": null,
      "outputs": []
    }
  ]
}
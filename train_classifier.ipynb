{
  "nbformat": 4,
  "nbformat_minor": 0,
  "metadata": {
    "kernelspec": {
      "name": "python3",
      "display_name": "Python 3"
    },
    "language_info": {
      "codemirror_mode": {
        "name": "ipython",
        "version": 3
      },
      "file_extension": ".py",
      "mimetype": "text/x-python",
      "name": "python",
      "nbconvert_exporter": "python",
      "pygments_lexer": "ipython3",
      "version": "3.5.5"
    },
    "colab": {
      "name": "train_classifier.ipynb",
      "provenance": [],
      "collapsed_sections": []
    },
    "accelerator": "GPU"
  },
  "cells": [
    {
      "cell_type": "markdown",
      "metadata": {
        "id": "5MgbdIR-Pjdu"
      },
      "source": [
        "# Training the Classifier"
      ]
    },
    {
      "cell_type": "markdown",
      "metadata": {
        "collapsed": true,
        "id": "rKrlTvC3ZywV"
      },
      "source": [
        "## Importing Libraries"
      ]
    },
    {
      "cell_type": "code",
      "metadata": {
        "id": "AC-jTROWAa2B"
      },
      "source": [
        "import keras\n",
        "from build_model import classifier_model\n",
        "from training_data import load_data, preprocess_data\n",
        "\n",
        "import matplotlib.pyplot as plt"
      ],
      "execution_count": 1,
      "outputs": []
    },
    {
      "cell_type": "markdown",
      "metadata": {
        "id": "0vt5LXYAJ234"
      },
      "source": [
        "executing inline ploting command for matplotlib"
      ]
    },
    {
      "cell_type": "code",
      "metadata": {
        "id": "ek4LRLIUBb2j"
      },
      "source": [
        "%matplotlib inline"
      ],
      "execution_count": 2,
      "outputs": []
    },
    {
      "cell_type": "markdown",
      "metadata": {
        "id": "ZA_qt_uQKWr7"
      },
      "source": [
        "## Loading and Preprocessing the dataset"
      ]
    },
    {
      "cell_type": "markdown",
      "metadata": {
        "id": "LC6t0pY0KfrZ"
      },
      "source": [
        "loading the dataset"
      ]
    },
    {
      "cell_type": "code",
      "metadata": {
        "colab": {
          "base_uri": "https://localhost:8080/"
        },
        "id": "3r5u4FwQzNPm",
        "outputId": "8cf6c99a-084f-4dce-fafb-fe4df19dd921"
      },
      "source": [
        "X_train, y_train, X_test, y_test = load_data()"
      ],
      "execution_count": 3,
      "outputs": [
        {
          "output_type": "stream",
          "text": [
            "Downloading data from https://storage.googleapis.com/tensorflow/tf-keras-datasets/mnist.npz\n",
            "11493376/11490434 [==============================] - 0s 0us/step\n"
          ],
          "name": "stdout"
        }
      ]
    },
    {
      "cell_type": "markdown",
      "metadata": {
        "id": "Rbih1xArKkaD"
      },
      "source": [
        "preprocessing and finalizing the dataset for training and testing"
      ]
    },
    {
      "cell_type": "code",
      "metadata": {
        "id": "dOzmkPwPKif7"
      },
      "source": [
        "X_train_classifier, y_train_classifier, X_val_classifier, y_val_classifier, X_test_classifier, y_test_classifier = preprocess_data(X_train, y_train, X_test, y_test)"
      ],
      "execution_count": 4,
      "outputs": []
    },
    {
      "cell_type": "markdown",
      "metadata": {
        "id": "flOmMipACaaA"
      },
      "source": [
        "## Vizualizing the Dataset"
      ]
    },
    {
      "cell_type": "code",
      "metadata": {
        "colab": {
          "base_uri": "https://localhost:8080/",
          "height": 282
        },
        "id": "kW1sOUVKCNYu",
        "outputId": "5fb694e0-eacd-430e-d0ab-557eec9ae46d"
      },
      "source": [
        "plt.imshow(X_train[101])"
      ],
      "execution_count": 5,
      "outputs": [
        {
          "output_type": "execute_result",
          "data": {
            "text/plain": [
              "<matplotlib.image.AxesImage at 0x7fd54de51dd0>"
            ]
          },
          "metadata": {
            "tags": []
          },
          "execution_count": 5
        },
        {
          "output_type": "display_data",
          "data": {
            "image/png": "[encoded data removed]",
            "text/plain": [
              "<Figure size 432x288 with 1 Axes>"
            ]
          },
          "metadata": {
            "tags": [],
            "needs_background": "light"
          }
        }
      ]
    },
    {
      "cell_type": "code",
      "metadata": {
        "colab": {
          "base_uri": "https://localhost:8080/"
        },
        "id": "udycMz93CNWY",
        "outputId": "03c0043f-3e0a-4d49-e670-63d7a21dd415"
      },
      "source": [
        "y_train[101]"
      ],
      "execution_count": 6,
      "outputs": [
        {
          "output_type": "execute_result",
          "data": {
            "text/plain": [
              "7"
            ]
          },
          "metadata": {
            "tags": []
          },
          "execution_count": 6
        }
      ]
    },
    {
      "cell_type": "markdown",
      "metadata": {
        "id": "qNUOQfaVDEYw"
      },
      "source": [
        "## Classification Model"
      ]
    },
    {
      "cell_type": "markdown",
      "metadata": {
        "id": "mZupkPrlLBx2"
      },
      "source": [
        "specifying the classification model"
      ]
    },
    {
      "cell_type": "code",
      "metadata": {
        "id": "pOg-p7aJzhTp"
      },
      "source": [
        "classifier = classifier_model()"
      ],
      "execution_count": 7,
      "outputs": []
    },
    {
      "cell_type": "markdown",
      "metadata": {
        "id": "E6S0wx_xLJUG"
      },
      "source": [
        "classification model summary"
      ]
    },
    {
      "cell_type": "code",
      "metadata": {
        "colab": {
          "base_uri": "https://localhost:8080/"
        },
        "id": "sGkp8PGTKrfb",
        "outputId": "1510ac5d-37a8-4028-9c4a-9f4c00671040"
      },
      "source": [
        "classifier.summary()"
      ],
      "execution_count": 8,
      "outputs": [
        {
          "output_type": "stream",
          "text": [
            "Model: \"sequential\"\n",
            "_________________________________________________________________\n",
            "Layer (type)                 Output Shape              Param #   \n",
            "=================================================================\n",
            "conv2d (Conv2D)              (None, 26, 26, 32)        320       \n",
            "_________________________________________________________________\n",
            "conv2d_1 (Conv2D)            (None, 24, 24, 32)        9248      \n",
            "_________________________________________________________________\n",
            "max_pooling2d (MaxPooling2D) (None, 12, 12, 32)        0         \n",
            "_________________________________________________________________\n",
            "dropout (Dropout)            (None, 12, 12, 32)        0         \n",
            "_________________________________________________________________\n",
            "conv2d_2 (Conv2D)            (None, 10, 10, 64)        18496     \n",
            "_________________________________________________________________\n",
            "conv2d_3 (Conv2D)            (None, 8, 8, 64)          36928     \n",
            "_________________________________________________________________\n",
            "max_pooling2d_1 (MaxPooling2 (None, 4, 4, 64)          0         \n",
            "_________________________________________________________________\n",
            "dropout_1 (Dropout)          (None, 4, 4, 64)          0         \n",
            "_________________________________________________________________\n",
            "flatten (Flatten)            (None, 1024)              0         \n",
            "_________________________________________________________________\n",
            "dense (Dense)                (None, 128)               131200    \n",
            "_________________________________________________________________\n",
            "dropout_2 (Dropout)          (None, 128)               0         \n",
            "_________________________________________________________________\n",
            "dense_1 (Dense)              (None, 10)                1290      \n",
            "=================================================================\n",
            "Total params: 197,482\n",
            "Trainable params: 197,482\n",
            "Non-trainable params: 0\n",
            "_________________________________________________________________\n"
          ],
          "name": "stdout"
        }
      ]
    },
    {
      "cell_type": "markdown",
      "metadata": {
        "id": "roUhpZZjK3tg"
      },
      "source": [
        "### model training"
      ]
    },
    {
      "cell_type": "markdown",
      "metadata": {
        "id": "9hRDxtOMLegZ"
      },
      "source": [
        "specifying the callbacks"
      ]
    },
    {
      "cell_type": "code",
      "metadata": {
        "id": "zsym8oNIztCR"
      },
      "source": [
        "callbacks = [\n",
        "    keras.callbacks.ModelCheckpoint('classifier.h5', save_best_only=True),\n",
        "    keras.callbacks.ReduceLROnPlateau()]"
      ],
      "execution_count": 9,
      "outputs": []
    },
    {
      "cell_type": "markdown",
      "metadata": {
        "id": "rrlrh19SLiKF"
      },
      "source": [
        "training the model and saving the training history"
      ]
    },
    {
      "cell_type": "code",
      "metadata": {
        "colab": {
          "base_uri": "https://localhost:8080/"
        },
        "id": "Nd9sZsWfzxUw",
        "outputId": "3ffef040-f235-4716-aa78-ecdc7c8a738b"
      },
      "source": [
        "history = classifier.fit(X_train_classifier, y_train_classifier, batch_size=32, epochs=100, verbose=1, validation_data = (X_val_classifier, y_val_classifier), callbacks = callbacks)"
      ],
      "execution_count": 10,
      "outputs": [
        {
          "output_type": "stream",
          "text": [
            "Epoch 1/100\n",
            "1688/1688 [==============================] - 40s 4ms/step - loss: 1.5725 - accuracy: 0.5430 - val_loss: 0.1144 - val_accuracy: 0.9668\n",
            "Epoch 2/100\n",
            "1688/1688 [==============================] - 7s 4ms/step - loss: 0.2794 - accuracy: 0.9172 - val_loss: 0.0823 - val_accuracy: 0.9738\n",
            "Epoch 3/100\n",
            "1688/1688 [==============================] - 7s 4ms/step - loss: 0.2085 - accuracy: 0.9390 - val_loss: 0.0659 - val_accuracy: 0.9797\n",
            "Epoch 4/100\n",
            "1688/1688 [==============================] - 7s 4ms/step - loss: 0.1808 - accuracy: 0.9468 - val_loss: 0.0577 - val_accuracy: 0.9830\n",
            "Epoch 5/100\n",
            "1688/1688 [==============================] - 7s 4ms/step - loss: 0.1574 - accuracy: 0.9551 - val_loss: 0.0577 - val_accuracy: 0.9828\n",
            "Epoch 6/100\n",
            "1688/1688 [==============================] - 7s 4ms/step - loss: 0.1524 - accuracy: 0.9568 - val_loss: 0.0490 - val_accuracy: 0.9855\n",
            "Epoch 7/100\n",
            "1688/1688 [==============================] - 7s 4ms/step - loss: 0.1321 - accuracy: 0.9631 - val_loss: 0.0498 - val_accuracy: 0.9845\n",
            "Epoch 8/100\n",
            "1688/1688 [==============================] - 7s 4ms/step - loss: 0.1325 - accuracy: 0.9627 - val_loss: 0.0494 - val_accuracy: 0.9850\n",
            "Epoch 9/100\n",
            "1688/1688 [==============================] - 7s 4ms/step - loss: 0.1259 - accuracy: 0.9637 - val_loss: 0.0482 - val_accuracy: 0.9850\n",
            "Epoch 10/100\n",
            "1688/1688 [==============================] - 7s 4ms/step - loss: 0.1238 - accuracy: 0.9664 - val_loss: 0.0455 - val_accuracy: 0.9870\n",
            "Epoch 11/100\n",
            "1688/1688 [==============================] - 7s 4ms/step - loss: 0.1201 - accuracy: 0.9667 - val_loss: 0.0473 - val_accuracy: 0.9863\n",
            "Epoch 12/100\n",
            "1688/1688 [==============================] - 7s 4ms/step - loss: 0.1125 - accuracy: 0.9688 - val_loss: 0.0478 - val_accuracy: 0.9873\n",
            "Epoch 13/100\n",
            "1688/1688 [==============================] - 7s 4ms/step - loss: 0.1122 - accuracy: 0.9692 - val_loss: 0.0422 - val_accuracy: 0.9858\n",
            "Epoch 14/100\n",
            "1688/1688 [==============================] - 7s 4ms/step - loss: 0.1061 - accuracy: 0.9705 - val_loss: 0.0465 - val_accuracy: 0.9852\n",
            "Epoch 15/100\n",
            "1688/1688 [==============================] - 7s 4ms/step - loss: 0.1170 - accuracy: 0.9674 - val_loss: 0.0381 - val_accuracy: 0.9888\n",
            "Epoch 16/100\n",
            "1688/1688 [==============================] - 7s 4ms/step - loss: 0.1131 - accuracy: 0.9680 - val_loss: 0.0393 - val_accuracy: 0.9893\n",
            "Epoch 17/100\n",
            "1688/1688 [==============================] - 7s 4ms/step - loss: 0.1101 - accuracy: 0.9692 - val_loss: 0.0553 - val_accuracy: 0.9842\n",
            "Epoch 18/100\n",
            "1688/1688 [==============================] - 7s 4ms/step - loss: 0.1187 - accuracy: 0.9665 - val_loss: 0.0350 - val_accuracy: 0.9895\n",
            "Epoch 19/100\n",
            "1688/1688 [==============================] - 7s 4ms/step - loss: 0.1201 - accuracy: 0.9666 - val_loss: 0.0405 - val_accuracy: 0.9898\n",
            "Epoch 20/100\n",
            "1688/1688 [==============================] - 7s 4ms/step - loss: 0.1097 - accuracy: 0.9697 - val_loss: 0.0399 - val_accuracy: 0.9890\n",
            "Epoch 21/100\n",
            "1688/1688 [==============================] - 6s 4ms/step - loss: 0.1109 - accuracy: 0.9687 - val_loss: 0.0376 - val_accuracy: 0.9868\n",
            "Epoch 22/100\n",
            "1688/1688 [==============================] - 6s 4ms/step - loss: 0.1046 - accuracy: 0.9712 - val_loss: 0.0418 - val_accuracy: 0.9857\n",
            "Epoch 23/100\n",
            "1688/1688 [==============================] - 7s 4ms/step - loss: 0.1087 - accuracy: 0.9703 - val_loss: 0.0341 - val_accuracy: 0.9890\n",
            "Epoch 24/100\n",
            "1688/1688 [==============================] - 6s 4ms/step - loss: 0.1007 - accuracy: 0.9716 - val_loss: 0.0361 - val_accuracy: 0.9873\n",
            "Epoch 25/100\n",
            "1688/1688 [==============================] - 7s 4ms/step - loss: 0.1026 - accuracy: 0.9723 - val_loss: 0.0446 - val_accuracy: 0.9863\n",
            "Epoch 26/100\n",
            "1688/1688 [==============================] - 7s 4ms/step - loss: 0.1158 - accuracy: 0.9682 - val_loss: 0.0372 - val_accuracy: 0.9890\n",
            "Epoch 27/100\n",
            "1688/1688 [==============================] - 7s 4ms/step - loss: 0.1029 - accuracy: 0.9717 - val_loss: 0.0383 - val_accuracy: 0.9895\n",
            "Epoch 28/100\n",
            "1688/1688 [==============================] - 7s 4ms/step - loss: 0.1091 - accuracy: 0.9694 - val_loss: 0.0415 - val_accuracy: 0.9868\n",
            "Epoch 29/100\n",
            "1688/1688 [==============================] - 7s 4ms/step - loss: 0.1153 - accuracy: 0.9679 - val_loss: 0.0405 - val_accuracy: 0.9878\n",
            "Epoch 30/100\n",
            "1688/1688 [==============================] - 7s 4ms/step - loss: 0.1053 - accuracy: 0.9693 - val_loss: 0.0341 - val_accuracy: 0.9905\n",
            "Epoch 31/100\n",
            "1688/1688 [==============================] - 7s 4ms/step - loss: 0.1033 - accuracy: 0.9707 - val_loss: 0.0417 - val_accuracy: 0.9883\n",
            "Epoch 32/100\n",
            "1688/1688 [==============================] - 7s 4ms/step - loss: 0.1056 - accuracy: 0.9713 - val_loss: 0.0380 - val_accuracy: 0.9885\n",
            "Epoch 33/100\n",
            "1688/1688 [==============================] - 7s 4ms/step - loss: 0.1033 - accuracy: 0.9710 - val_loss: 0.0348 - val_accuracy: 0.9897\n",
            "Epoch 34/100\n",
            "1688/1688 [==============================] - 7s 4ms/step - loss: 0.0896 - accuracy: 0.9743 - val_loss: 0.0318 - val_accuracy: 0.9910\n",
            "Epoch 35/100\n",
            "1688/1688 [==============================] - 7s 4ms/step - loss: 0.0714 - accuracy: 0.9790 - val_loss: 0.0309 - val_accuracy: 0.9915\n",
            "Epoch 36/100\n",
            "1688/1688 [==============================] - 7s 4ms/step - loss: 0.0693 - accuracy: 0.9809 - val_loss: 0.0318 - val_accuracy: 0.9908\n",
            "Epoch 37/100\n",
            "1688/1688 [==============================] - 7s 4ms/step - loss: 0.0633 - accuracy: 0.9818 - val_loss: 0.0313 - val_accuracy: 0.9917\n",
            "Epoch 38/100\n",
            "1688/1688 [==============================] - 7s 4ms/step - loss: 0.0610 - accuracy: 0.9821 - val_loss: 0.0301 - val_accuracy: 0.9922\n",
            "Epoch 39/100\n",
            "1688/1688 [==============================] - 7s 4ms/step - loss: 0.0648 - accuracy: 0.9817 - val_loss: 0.0306 - val_accuracy: 0.9917\n",
            "Epoch 40/100\n",
            "1688/1688 [==============================] - 7s 4ms/step - loss: 0.0655 - accuracy: 0.9807 - val_loss: 0.0310 - val_accuracy: 0.9915\n",
            "Epoch 41/100\n",
            "1688/1688 [==============================] - 7s 4ms/step - loss: 0.0586 - accuracy: 0.9831 - val_loss: 0.0296 - val_accuracy: 0.9920\n",
            "Epoch 42/100\n",
            "1688/1688 [==============================] - 7s 4ms/step - loss: 0.0599 - accuracy: 0.9834 - val_loss: 0.0294 - val_accuracy: 0.9928\n",
            "Epoch 43/100\n",
            "1688/1688 [==============================] - 7s 4ms/step - loss: 0.0532 - accuracy: 0.9846 - val_loss: 0.0286 - val_accuracy: 0.9918\n",
            "Epoch 44/100\n",
            "1688/1688 [==============================] - 7s 4ms/step - loss: 0.0553 - accuracy: 0.9843 - val_loss: 0.0286 - val_accuracy: 0.9917\n",
            "Epoch 45/100\n",
            "1688/1688 [==============================] - 7s 4ms/step - loss: 0.0544 - accuracy: 0.9836 - val_loss: 0.0300 - val_accuracy: 0.9922\n",
            "Epoch 46/100\n",
            "1688/1688 [==============================] - 7s 4ms/step - loss: 0.0566 - accuracy: 0.9843 - val_loss: 0.0300 - val_accuracy: 0.9917\n",
            "Epoch 47/100\n",
            "1688/1688 [==============================] - 7s 4ms/step - loss: 0.0574 - accuracy: 0.9833 - val_loss: 0.0302 - val_accuracy: 0.9920\n",
            "Epoch 48/100\n",
            "1688/1688 [==============================] - 7s 4ms/step - loss: 0.0530 - accuracy: 0.9846 - val_loss: 0.0287 - val_accuracy: 0.9927\n",
            "Epoch 49/100\n",
            "1688/1688 [==============================] - 7s 4ms/step - loss: 0.0515 - accuracy: 0.9854 - val_loss: 0.0283 - val_accuracy: 0.9922\n",
            "Epoch 50/100\n",
            "1688/1688 [==============================] - 7s 4ms/step - loss: 0.0501 - accuracy: 0.9848 - val_loss: 0.0278 - val_accuracy: 0.9925\n",
            "Epoch 51/100\n",
            "1688/1688 [==============================] - 7s 4ms/step - loss: 0.0511 - accuracy: 0.9852 - val_loss: 0.0265 - val_accuracy: 0.9930\n",
            "Epoch 52/100\n",
            "1688/1688 [==============================] - 7s 4ms/step - loss: 0.0558 - accuracy: 0.9852 - val_loss: 0.0260 - val_accuracy: 0.9933\n",
            "Epoch 53/100\n",
            "1688/1688 [==============================] - 7s 4ms/step - loss: 0.0507 - accuracy: 0.9850 - val_loss: 0.0277 - val_accuracy: 0.9928\n",
            "Epoch 54/100\n",
            "1688/1688 [==============================] - 7s 4ms/step - loss: 0.0488 - accuracy: 0.9858 - val_loss: 0.0284 - val_accuracy: 0.9925\n",
            "Epoch 55/100\n",
            "1688/1688 [==============================] - 7s 4ms/step - loss: 0.0503 - accuracy: 0.9866 - val_loss: 0.0300 - val_accuracy: 0.9918\n",
            "Epoch 56/100\n",
            "1688/1688 [==============================] - 7s 4ms/step - loss: 0.0526 - accuracy: 0.9848 - val_loss: 0.0285 - val_accuracy: 0.9925\n",
            "Epoch 57/100\n",
            "1688/1688 [==============================] - 7s 4ms/step - loss: 0.0514 - accuracy: 0.9856 - val_loss: 0.0278 - val_accuracy: 0.9930\n",
            "Epoch 58/100\n",
            "1688/1688 [==============================] - 7s 4ms/step - loss: 0.0500 - accuracy: 0.9859 - val_loss: 0.0281 - val_accuracy: 0.9923\n",
            "Epoch 59/100\n",
            "1688/1688 [==============================] - 7s 4ms/step - loss: 0.0508 - accuracy: 0.9853 - val_loss: 0.0269 - val_accuracy: 0.9927\n",
            "Epoch 60/100\n",
            "1688/1688 [==============================] - 7s 4ms/step - loss: 0.0508 - accuracy: 0.9858 - val_loss: 0.0285 - val_accuracy: 0.9928\n",
            "Epoch 61/100\n",
            "1688/1688 [==============================] - 7s 4ms/step - loss: 0.0503 - accuracy: 0.9856 - val_loss: 0.0281 - val_accuracy: 0.9922\n",
            "Epoch 62/100\n",
            "1688/1688 [==============================] - 7s 4ms/step - loss: 0.0465 - accuracy: 0.9865 - val_loss: 0.0261 - val_accuracy: 0.9928\n",
            "Epoch 63/100\n",
            "1688/1688 [==============================] - 7s 4ms/step - loss: 0.0488 - accuracy: 0.9854 - val_loss: 0.0272 - val_accuracy: 0.9927\n",
            "Epoch 64/100\n",
            "1688/1688 [==============================] - 7s 4ms/step - loss: 0.0468 - accuracy: 0.9860 - val_loss: 0.0271 - val_accuracy: 0.9932\n",
            "Epoch 65/100\n",
            "1688/1688 [==============================] - 6s 4ms/step - loss: 0.0471 - accuracy: 0.9863 - val_loss: 0.0268 - val_accuracy: 0.9933\n",
            "Epoch 66/100\n",
            "1688/1688 [==============================] - 6s 4ms/step - loss: 0.0496 - accuracy: 0.9865 - val_loss: 0.0265 - val_accuracy: 0.9933\n",
            "Epoch 67/100\n",
            "1688/1688 [==============================] - 7s 4ms/step - loss: 0.0426 - accuracy: 0.9880 - val_loss: 0.0262 - val_accuracy: 0.9932\n",
            "Epoch 68/100\n",
            "1688/1688 [==============================] - 7s 4ms/step - loss: 0.0423 - accuracy: 0.9877 - val_loss: 0.0270 - val_accuracy: 0.9930\n",
            "Epoch 69/100\n",
            "1688/1688 [==============================] - 7s 4ms/step - loss: 0.0415 - accuracy: 0.9881 - val_loss: 0.0275 - val_accuracy: 0.9923\n",
            "Epoch 70/100\n",
            "1688/1688 [==============================] - 7s 4ms/step - loss: 0.0459 - accuracy: 0.9863 - val_loss: 0.0270 - val_accuracy: 0.9932\n",
            "Epoch 71/100\n",
            "1688/1688 [==============================] - 7s 4ms/step - loss: 0.0420 - accuracy: 0.9874 - val_loss: 0.0266 - val_accuracy: 0.9932\n",
            "Epoch 72/100\n",
            "1688/1688 [==============================] - 7s 4ms/step - loss: 0.0464 - accuracy: 0.9863 - val_loss: 0.0265 - val_accuracy: 0.9930\n",
            "Epoch 73/100\n",
            "1688/1688 [==============================] - 7s 4ms/step - loss: 0.0482 - accuracy: 0.9868 - val_loss: 0.0266 - val_accuracy: 0.9930\n",
            "Epoch 74/100\n",
            "1688/1688 [==============================] - 7s 4ms/step - loss: 0.0447 - accuracy: 0.9874 - val_loss: 0.0267 - val_accuracy: 0.9930\n",
            "Epoch 75/100\n",
            "1688/1688 [==============================] - 7s 4ms/step - loss: 0.0448 - accuracy: 0.9864 - val_loss: 0.0267 - val_accuracy: 0.9930\n",
            "Epoch 76/100\n",
            "1688/1688 [==============================] - 7s 4ms/step - loss: 0.0459 - accuracy: 0.9868 - val_loss: 0.0266 - val_accuracy: 0.9930\n",
            "Epoch 77/100\n",
            "1688/1688 [==============================] - 7s 4ms/step - loss: 0.0468 - accuracy: 0.9872 - val_loss: 0.0267 - val_accuracy: 0.9930\n",
            "Epoch 78/100\n",
            "1688/1688 [==============================] - 7s 4ms/step - loss: 0.0462 - accuracy: 0.9868 - val_loss: 0.0267 - val_accuracy: 0.9930\n",
            "Epoch 79/100\n",
            "1688/1688 [==============================] - 7s 4ms/step - loss: 0.0422 - accuracy: 0.9873 - val_loss: 0.0267 - val_accuracy: 0.9930\n",
            "Epoch 80/100\n",
            "1688/1688 [==============================] - 7s 4ms/step - loss: 0.0415 - accuracy: 0.9885 - val_loss: 0.0268 - val_accuracy: 0.9930\n",
            "Epoch 81/100\n",
            "1688/1688 [==============================] - 7s 4ms/step - loss: 0.0452 - accuracy: 0.9867 - val_loss: 0.0267 - val_accuracy: 0.9928\n",
            "Epoch 82/100\n",
            "1688/1688 [==============================] - 7s 4ms/step - loss: 0.0438 - accuracy: 0.9879 - val_loss: 0.0267 - val_accuracy: 0.9928\n",
            "Epoch 83/100\n",
            "1688/1688 [==============================] - 7s 4ms/step - loss: 0.0456 - accuracy: 0.9874 - val_loss: 0.0267 - val_accuracy: 0.9928\n",
            "Epoch 84/100\n",
            "1688/1688 [==============================] - 7s 4ms/step - loss: 0.0420 - accuracy: 0.9879 - val_loss: 0.0267 - val_accuracy: 0.9928\n",
            "Epoch 85/100\n",
            "1688/1688 [==============================] - 7s 4ms/step - loss: 0.0440 - accuracy: 0.9868 - val_loss: 0.0267 - val_accuracy: 0.9928\n",
            "Epoch 86/100\n",
            "1688/1688 [==============================] - 7s 4ms/step - loss: 0.0488 - accuracy: 0.9865 - val_loss: 0.0267 - val_accuracy: 0.9928\n",
            "Epoch 87/100\n",
            "1688/1688 [==============================] - 7s 4ms/step - loss: 0.0424 - accuracy: 0.9870 - val_loss: 0.0267 - val_accuracy: 0.9928\n",
            "Epoch 88/100\n",
            "1688/1688 [==============================] - 7s 4ms/step - loss: 0.0461 - accuracy: 0.9867 - val_loss: 0.0267 - val_accuracy: 0.9928\n",
            "Epoch 89/100\n",
            "1688/1688 [==============================] - 7s 4ms/step - loss: 0.0450 - accuracy: 0.9871 - val_loss: 0.0267 - val_accuracy: 0.9928\n",
            "Epoch 90/100\n",
            "1688/1688 [==============================] - 7s 4ms/step - loss: 0.0456 - accuracy: 0.9879 - val_loss: 0.0267 - val_accuracy: 0.9928\n",
            "Epoch 91/100\n",
            "1688/1688 [==============================] - 7s 4ms/step - loss: 0.0424 - accuracy: 0.9871 - val_loss: 0.0267 - val_accuracy: 0.9928\n",
            "Epoch 92/100\n",
            "1688/1688 [==============================] - 7s 4ms/step - loss: 0.0444 - accuracy: 0.9870 - val_loss: 0.0267 - val_accuracy: 0.9928\n",
            "Epoch 93/100\n",
            "1688/1688 [==============================] - 7s 4ms/step - loss: 0.0456 - accuracy: 0.9867 - val_loss: 0.0267 - val_accuracy: 0.9928\n",
            "Epoch 94/100\n",
            "1688/1688 [==============================] - 7s 4ms/step - loss: 0.0435 - accuracy: 0.9871 - val_loss: 0.0267 - val_accuracy: 0.9928\n",
            "Epoch 95/100\n",
            "1688/1688 [==============================] - 7s 4ms/step - loss: 0.0426 - accuracy: 0.9873 - val_loss: 0.0267 - val_accuracy: 0.9928\n",
            "Epoch 96/100\n",
            "1688/1688 [==============================] - 7s 4ms/step - loss: 0.0421 - accuracy: 0.9878 - val_loss: 0.0267 - val_accuracy: 0.9928\n",
            "Epoch 97/100\n",
            "1688/1688 [==============================] - 7s 4ms/step - loss: 0.0440 - accuracy: 0.9874 - val_loss: 0.0267 - val_accuracy: 0.9928\n",
            "Epoch 98/100\n",
            "1688/1688 [==============================] - 7s 4ms/step - loss: 0.0443 - accuracy: 0.9870 - val_loss: 0.0267 - val_accuracy: 0.9928\n",
            "Epoch 99/100\n",
            "1688/1688 [==============================] - 7s 4ms/step - loss: 0.0436 - accuracy: 0.9866 - val_loss: 0.0267 - val_accuracy: 0.9928\n",
            "Epoch 100/100\n",
            "1688/1688 [==============================] - 7s 4ms/step - loss: 0.0439 - accuracy: 0.9882 - val_loss: 0.0267 - val_accuracy: 0.9928\n"
          ],
          "name": "stdout"
        }
      ]
    },
    {
      "cell_type": "markdown",
      "metadata": {
        "id": "RpS-PqZsLrJM"
      },
      "source": [
        "## Training Evaluation"
      ]
    },
    {
      "cell_type": "markdown",
      "metadata": {
        "id": "p-an2MTgLzXy"
      },
      "source": [
        "model model accuracy performance during training"
      ]
    },
    {
      "cell_type": "code",
      "metadata": {
        "colab": {
          "base_uri": "https://localhost:8080/",
          "height": 295
        },
        "id": "7LfW8rPVVN53",
        "outputId": "b106bcf8-43d5-47af-e2ec-06853b33a75b"
      },
      "source": [
        "plt.plot(history.history['accuracy'][0:100])\n",
        "plt.plot(history.history['val_accuracy'][0:100])\n",
        "plt.title('model accuracy')\n",
        "plt.ylabel('accuracy')\n",
        "plt.xlabel('epoch')\n",
        "plt.legend(['training_accuracy', 'validation_accuracy'], loc='lower right')\n",
        "plt.show()"
      ],
      "execution_count": 11,
      "outputs": [
        {
          "output_type": "display_data",
          "data": {
            "image/png": "[encoded data removed]",
            "text/plain": [
              "<Figure size 432x288 with 1 Axes>"
            ]
          },
          "metadata": {
            "tags": [],
            "needs_background": "light"
          }
        }
      ]
    },
    {
      "cell_type": "markdown",
      "metadata": {
        "id": "Jg852KeEL74H"
      },
      "source": [
        "model loss convergence during training"
      ]
    },
    {
      "cell_type": "code",
      "metadata": {
        "colab": {
          "base_uri": "https://localhost:8080/",
          "height": 295
        },
        "id": "gYfeuKNKlpUZ",
        "outputId": "7f8c878a-54da-4f71-be7d-e44606bc7436"
      },
      "source": [
        "plt.plot(history.history['loss'][0:100])\n",
        "plt.plot(history.history['val_loss'][0:100])\n",
        "plt.title('model loss')\n",
        "plt.ylabel('loss')\n",
        "plt.xlabel('epoch')\n",
        "plt.legend(['training_accuracy', 'validation_accuracy'], loc='upper right')\n",
        "plt.show()"
      ],
      "execution_count": 12,
      "outputs": [
        {
          "output_type": "display_data",
          "data": {
            "image/png": "[encoded data removed]",
            "text/plain": [
              "<Figure size 432x288 with 1 Axes>"
            ]
          },
          "metadata": {
            "tags": [],
            "needs_background": "light"
          }
        }
      ]
    },
    {
      "cell_type": "code",
      "metadata": {
        "id": "nDgcYyKkl6jP"
      },
      "source": [
        ""
      ],
      "execution_count": 12,
      "outputs": []
    }
  ]
}